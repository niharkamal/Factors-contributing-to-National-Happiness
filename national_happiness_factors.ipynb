{
  "cells": [
    {
      "cell_type": "markdown",
      "metadata": {
        "id": "ERpPGmg7TjWp"
      },
      "source": [
        "# Factors that contribute to National Happiness\n",
        "The goal of this analysis is to determine the factors that correlate to national happiness. I retreived this data from Kaggle.\n",
        "I am going to download the data set. Retrieve it, clean it and see if I can find a correlation between various factors -like income for instance- and happiness."
      ]
    },
    {
      "cell_type": "markdown",
      "metadata": {
        "id": "fQEM8I1_TjWu"
      },
      "source": [
        "## Downloading the Dataset\n"
      ]
    },
    {
      "cell_type": "code",
      "execution_count": null,
      "metadata": {
        "id": "i3eYInc1TjWw"
      },
      "outputs": [],
      "source": [
        "import seaborn as sns\n",
        "import matplotlib\n",
        "import matplotlib.pyplot as plt\n",
        "import numpy as np\n",
        "import statsmodels.api as sm\n",
        "%matplotlib inline\n",
        "\n",
        "sns.set_style('darkgrid')\n",
        "matplotlib.rcParams['font.size'] = 14\n",
        "matplotlib.rcParams['figure.figsize'] = (12, 5)\n",
        "matplotlib.rcParams['figure.facecolor'] = '#00000000'"
      ]
    },
    {
      "cell_type": "code",
      "execution_count": null,
      "metadata": {
        "id": "SIaYLP1sTjWz"
      },
      "outputs": [],
      "source": [
        "!pip install jovian opendatasets --upgrade --quiet"
      ]
    },
    {
      "cell_type": "code",
      "execution_count": null,
      "metadata": {
        "id": "LY_oSS-jTjW0"
      },
      "outputs": [],
      "source": [
        "dataset_url = 'https://www.kaggle.com/unsdsn/world-happiness'"
      ]
    },
    {
      "cell_type": "code",
      "execution_count": null,
      "metadata": {
        "id": "soT-Ak6vTjW1"
      },
      "outputs": [],
      "source": [
        "import opendatasets as od \n",
        "od.download(dataset_url)"
      ]
    },
    {
      "cell_type": "markdown",
      "metadata": {
        "id": "1SmX72MbTjW4"
      },
      "source": [
        "The dataset has been downloaded and extracted."
      ]
    },
    {
      "cell_type": "code",
      "execution_count": null,
      "metadata": {
        "id": "bU_nxe_vTjW5",
        "outputId": "de11ca04-79cc-404e-d404-8e4c0232ed62"
      },
      "outputs": [
        {
          "data": {
            "text/plain": [
              "'/home/jovyan'"
            ]
          },
          "execution_count": 10,
          "metadata": {},
          "output_type": "execute_result"
        }
      ],
      "source": [
        "pwd"
      ]
    },
    {
      "cell_type": "code",
      "execution_count": null,
      "metadata": {
        "id": "zPJDLV5yTjW6"
      },
      "outputs": [],
      "source": [
        " data_dir = './world-happiness' "
      ]
    },
    {
      "cell_type": "code",
      "execution_count": null,
      "metadata": {
        "id": "mx-RaiWiTjW7",
        "outputId": "e74b39b1-74bb-436d-f23e-3af3d8bf9332"
      },
      "outputs": [
        {
          "data": {
            "text/plain": [
              "['2018.csv', '2015.csv', '2017.csv', '2019.csv', '2016.csv']"
            ]
          },
          "execution_count": 12,
          "metadata": {},
          "output_type": "execute_result"
        }
      ],
      "source": [
        "import os\n",
        "os.listdir(data_dir)"
      ]
    },
    {
      "cell_type": "markdown",
      "metadata": {
        "id": "cXf8BvD2TjW8"
      },
      "source": [
        "Let us save and upload our work to Jovian before continuing."
      ]
    },
    {
      "cell_type": "code",
      "execution_count": null,
      "metadata": {
        "id": "D6XJY-TdTjW9"
      },
      "outputs": [],
      "source": [
        "project_name = \"project-happiness\""
      ]
    },
    {
      "cell_type": "code",
      "execution_count": null,
      "metadata": {
        "scrolled": false,
        "id": "IBQ9d0rTTjXA",
        "outputId": "a6259e26-bedf-42c5-f17d-0c1a662a882c"
      },
      "outputs": [
        {
          "data": {
            "text/html": [
              "<div>\n",
              "<style scoped>\n",
              "    .dataframe tbody tr th:only-of-type {\n",
              "        vertical-align: middle;\n",
              "    }\n",
              "\n",
              "    .dataframe tbody tr th {\n",
              "        vertical-align: top;\n",
              "    }\n",
              "\n",
              "    .dataframe thead th {\n",
              "        text-align: right;\n",
              "    }\n",
              "</style>\n",
              "<table border=\"1\" class=\"dataframe\">\n",
              "  <thead>\n",
              "    <tr style=\"text-align: right;\">\n",
              "      <th></th>\n",
              "      <th>Overall rank</th>\n",
              "      <th>Country or region</th>\n",
              "      <th>Score</th>\n",
              "      <th>GDP per capita</th>\n",
              "      <th>Social support</th>\n",
              "      <th>Healthy life expectancy</th>\n",
              "      <th>Freedom to make life choices</th>\n",
              "      <th>Generosity</th>\n",
              "      <th>Perceptions of corruption</th>\n",
              "    </tr>\n",
              "  </thead>\n",
              "  <tbody>\n",
              "    <tr>\n",
              "      <th>0</th>\n",
              "      <td>1</td>\n",
              "      <td>Finland</td>\n",
              "      <td>7.769</td>\n",
              "      <td>1.340</td>\n",
              "      <td>1.587</td>\n",
              "      <td>0.986</td>\n",
              "      <td>0.596</td>\n",
              "      <td>0.153</td>\n",
              "      <td>0.393</td>\n",
              "    </tr>\n",
              "    <tr>\n",
              "      <th>1</th>\n",
              "      <td>2</td>\n",
              "      <td>Denmark</td>\n",
              "      <td>7.600</td>\n",
              "      <td>1.383</td>\n",
              "      <td>1.573</td>\n",
              "      <td>0.996</td>\n",
              "      <td>0.592</td>\n",
              "      <td>0.252</td>\n",
              "      <td>0.410</td>\n",
              "    </tr>\n",
              "    <tr>\n",
              "      <th>2</th>\n",
              "      <td>3</td>\n",
              "      <td>Norway</td>\n",
              "      <td>7.554</td>\n",
              "      <td>1.488</td>\n",
              "      <td>1.582</td>\n",
              "      <td>1.028</td>\n",
              "      <td>0.603</td>\n",
              "      <td>0.271</td>\n",
              "      <td>0.341</td>\n",
              "    </tr>\n",
              "    <tr>\n",
              "      <th>3</th>\n",
              "      <td>4</td>\n",
              "      <td>Iceland</td>\n",
              "      <td>7.494</td>\n",
              "      <td>1.380</td>\n",
              "      <td>1.624</td>\n",
              "      <td>1.026</td>\n",
              "      <td>0.591</td>\n",
              "      <td>0.354</td>\n",
              "      <td>0.118</td>\n",
              "    </tr>\n",
              "    <tr>\n",
              "      <th>4</th>\n",
              "      <td>5</td>\n",
              "      <td>Netherlands</td>\n",
              "      <td>7.488</td>\n",
              "      <td>1.396</td>\n",
              "      <td>1.522</td>\n",
              "      <td>0.999</td>\n",
              "      <td>0.557</td>\n",
              "      <td>0.322</td>\n",
              "      <td>0.298</td>\n",
              "    </tr>\n",
              "    <tr>\n",
              "      <th>...</th>\n",
              "      <td>...</td>\n",
              "      <td>...</td>\n",
              "      <td>...</td>\n",
              "      <td>...</td>\n",
              "      <td>...</td>\n",
              "      <td>...</td>\n",
              "      <td>...</td>\n",
              "      <td>...</td>\n",
              "      <td>...</td>\n",
              "    </tr>\n",
              "    <tr>\n",
              "      <th>151</th>\n",
              "      <td>152</td>\n",
              "      <td>Rwanda</td>\n",
              "      <td>3.334</td>\n",
              "      <td>0.359</td>\n",
              "      <td>0.711</td>\n",
              "      <td>0.614</td>\n",
              "      <td>0.555</td>\n",
              "      <td>0.217</td>\n",
              "      <td>0.411</td>\n",
              "    </tr>\n",
              "    <tr>\n",
              "      <th>152</th>\n",
              "      <td>153</td>\n",
              "      <td>Tanzania</td>\n",
              "      <td>3.231</td>\n",
              "      <td>0.476</td>\n",
              "      <td>0.885</td>\n",
              "      <td>0.499</td>\n",
              "      <td>0.417</td>\n",
              "      <td>0.276</td>\n",
              "      <td>0.147</td>\n",
              "    </tr>\n",
              "    <tr>\n",
              "      <th>153</th>\n",
              "      <td>154</td>\n",
              "      <td>Afghanistan</td>\n",
              "      <td>3.203</td>\n",
              "      <td>0.350</td>\n",
              "      <td>0.517</td>\n",
              "      <td>0.361</td>\n",
              "      <td>0.000</td>\n",
              "      <td>0.158</td>\n",
              "      <td>0.025</td>\n",
              "    </tr>\n",
              "    <tr>\n",
              "      <th>154</th>\n",
              "      <td>155</td>\n",
              "      <td>Central African Republic</td>\n",
              "      <td>3.083</td>\n",
              "      <td>0.026</td>\n",
              "      <td>0.000</td>\n",
              "      <td>0.105</td>\n",
              "      <td>0.225</td>\n",
              "      <td>0.235</td>\n",
              "      <td>0.035</td>\n",
              "    </tr>\n",
              "    <tr>\n",
              "      <th>155</th>\n",
              "      <td>156</td>\n",
              "      <td>South Sudan</td>\n",
              "      <td>2.853</td>\n",
              "      <td>0.306</td>\n",
              "      <td>0.575</td>\n",
              "      <td>0.295</td>\n",
              "      <td>0.010</td>\n",
              "      <td>0.202</td>\n",
              "      <td>0.091</td>\n",
              "    </tr>\n",
              "  </tbody>\n",
              "</table>\n",
              "<p>156 rows × 9 columns</p>\n",
              "</div>"
            ],
            "text/plain": [
              "     Overall rank         Country or region  Score  GDP per capita  \\\n",
              "0               1                   Finland  7.769           1.340   \n",
              "1               2                   Denmark  7.600           1.383   \n",
              "2               3                    Norway  7.554           1.488   \n",
              "3               4                   Iceland  7.494           1.380   \n",
              "4               5               Netherlands  7.488           1.396   \n",
              "..            ...                       ...    ...             ...   \n",
              "151           152                    Rwanda  3.334           0.359   \n",
              "152           153                  Tanzania  3.231           0.476   \n",
              "153           154               Afghanistan  3.203           0.350   \n",
              "154           155  Central African Republic  3.083           0.026   \n",
              "155           156               South Sudan  2.853           0.306   \n",
              "\n",
              "     Social support  Healthy life expectancy  Freedom to make life choices  \\\n",
              "0             1.587                    0.986                         0.596   \n",
              "1             1.573                    0.996                         0.592   \n",
              "2             1.582                    1.028                         0.603   \n",
              "3             1.624                    1.026                         0.591   \n",
              "4             1.522                    0.999                         0.557   \n",
              "..              ...                      ...                           ...   \n",
              "151           0.711                    0.614                         0.555   \n",
              "152           0.885                    0.499                         0.417   \n",
              "153           0.517                    0.361                         0.000   \n",
              "154           0.000                    0.105                         0.225   \n",
              "155           0.575                    0.295                         0.010   \n",
              "\n",
              "     Generosity  Perceptions of corruption  \n",
              "0         0.153                      0.393  \n",
              "1         0.252                      0.410  \n",
              "2         0.271                      0.341  \n",
              "3         0.354                      0.118  \n",
              "4         0.322                      0.298  \n",
              "..          ...                        ...  \n",
              "151       0.217                      0.411  \n",
              "152       0.276                      0.147  \n",
              "153       0.158                      0.025  \n",
              "154       0.235                      0.035  \n",
              "155       0.202                      0.091  \n",
              "\n",
              "[156 rows x 9 columns]"
            ]
          },
          "execution_count": 16,
          "metadata": {},
          "output_type": "execute_result"
        }
      ],
      "source": [
        "import pandas as pd\n",
        "happy_raw_df = pd.read_csv('world-happiness/2019.csv')\n",
        "happy_raw_df"
      ]
    },
    {
      "cell_type": "markdown",
      "metadata": {
        "id": "ewEVCcw9TjXB"
      },
      "source": [
        "# This dataset represents happiness rankings among countries \n",
        "**Question**: How are countries ranked by happiness?\n",
        "\n",
        "**Methodology**: A method called a Cantril ladder is being used here. The way it works is that it asks respondents to rate their own current lives on a scale of 10 to 0, with the best possible life being 10 and the worst possible life being 0. The countries are then ranked in descending order based on the average score. \n",
        "\n",
        "**Metrics**: The columns after the happiness score are factors that estimate how much each variable contribute to the overall score for\n",
        "that particular country compared to a hypothetical country that has the lowest score in each of the 6 factors. In other words, it tells you how much do each of these six factors are positively impacting the the average happiness score in each country."
      ]
    },
    {
      "cell_type": "code",
      "execution_count": null,
      "metadata": {
        "id": "5L_MkrXiTjXC",
        "outputId": "9e711fcb-9089-40a2-f2c3-74011feaabcf"
      },
      "outputs": [
        {
          "data": {
            "text/plain": [
              "(156, 9)"
            ]
          },
          "execution_count": 17,
          "metadata": {},
          "output_type": "execute_result"
        }
      ],
      "source": [
        "happy_raw_df.shape"
      ]
    },
    {
      "cell_type": "code",
      "execution_count": null,
      "metadata": {
        "scrolled": true,
        "id": "0NYXzsG3TjXD",
        "outputId": "c08ae346-e5ba-4337-b318-c2e10b1ae488"
      },
      "outputs": [
        {
          "data": {
            "text/plain": [
              "False"
            ]
          },
          "execution_count": 18,
          "metadata": {},
          "output_type": "execute_result"
        }
      ],
      "source": [
        "happy_raw_df.isnull().values.any()"
      ]
    },
    {
      "cell_type": "markdown",
      "metadata": {
        "id": "Png3Qu4jTjXE"
      },
      "source": [
        "#### Note: I will rename 'Perceptions of corruption' as 'Absence of Corruption' since that is what it is referred to as in the kaggle description. Additionally, it can clear up confusion as a higher score actually means that the public perceive there to be less corruption and that is contributing to the happiness score; additionally I will rename the score as happiness to make it more clear"
      ]
    },
    {
      "cell_type": "code",
      "execution_count": null,
      "metadata": {
        "id": "gizqEkZBTjXG",
        "outputId": "1f6e6328-a53e-47c9-c265-3c96db710cd1"
      },
      "outputs": [
        {
          "data": {
            "text/html": [
              "<div>\n",
              "<style scoped>\n",
              "    .dataframe tbody tr th:only-of-type {\n",
              "        vertical-align: middle;\n",
              "    }\n",
              "\n",
              "    .dataframe tbody tr th {\n",
              "        vertical-align: top;\n",
              "    }\n",
              "\n",
              "    .dataframe thead th {\n",
              "        text-align: right;\n",
              "    }\n",
              "</style>\n",
              "<table border=\"1\" class=\"dataframe\">\n",
              "  <thead>\n",
              "    <tr style=\"text-align: right;\">\n",
              "      <th></th>\n",
              "      <th>Overall rank</th>\n",
              "      <th>Country or region</th>\n",
              "      <th>Happiness</th>\n",
              "      <th>GDP per capita</th>\n",
              "      <th>Social support</th>\n",
              "      <th>Healthy life expectancy</th>\n",
              "      <th>Freedom to make life choices</th>\n",
              "      <th>Generosity</th>\n",
              "      <th>Absence of Corruption</th>\n",
              "    </tr>\n",
              "  </thead>\n",
              "  <tbody>\n",
              "    <tr>\n",
              "      <th>0</th>\n",
              "      <td>1</td>\n",
              "      <td>Finland</td>\n",
              "      <td>7.769</td>\n",
              "      <td>1.340</td>\n",
              "      <td>1.587</td>\n",
              "      <td>0.986</td>\n",
              "      <td>0.596</td>\n",
              "      <td>0.153</td>\n",
              "      <td>0.393</td>\n",
              "    </tr>\n",
              "    <tr>\n",
              "      <th>1</th>\n",
              "      <td>2</td>\n",
              "      <td>Denmark</td>\n",
              "      <td>7.600</td>\n",
              "      <td>1.383</td>\n",
              "      <td>1.573</td>\n",
              "      <td>0.996</td>\n",
              "      <td>0.592</td>\n",
              "      <td>0.252</td>\n",
              "      <td>0.410</td>\n",
              "    </tr>\n",
              "    <tr>\n",
              "      <th>2</th>\n",
              "      <td>3</td>\n",
              "      <td>Norway</td>\n",
              "      <td>7.554</td>\n",
              "      <td>1.488</td>\n",
              "      <td>1.582</td>\n",
              "      <td>1.028</td>\n",
              "      <td>0.603</td>\n",
              "      <td>0.271</td>\n",
              "      <td>0.341</td>\n",
              "    </tr>\n",
              "    <tr>\n",
              "      <th>3</th>\n",
              "      <td>4</td>\n",
              "      <td>Iceland</td>\n",
              "      <td>7.494</td>\n",
              "      <td>1.380</td>\n",
              "      <td>1.624</td>\n",
              "      <td>1.026</td>\n",
              "      <td>0.591</td>\n",
              "      <td>0.354</td>\n",
              "      <td>0.118</td>\n",
              "    </tr>\n",
              "    <tr>\n",
              "      <th>4</th>\n",
              "      <td>5</td>\n",
              "      <td>Netherlands</td>\n",
              "      <td>7.488</td>\n",
              "      <td>1.396</td>\n",
              "      <td>1.522</td>\n",
              "      <td>0.999</td>\n",
              "      <td>0.557</td>\n",
              "      <td>0.322</td>\n",
              "      <td>0.298</td>\n",
              "    </tr>\n",
              "    <tr>\n",
              "      <th>...</th>\n",
              "      <td>...</td>\n",
              "      <td>...</td>\n",
              "      <td>...</td>\n",
              "      <td>...</td>\n",
              "      <td>...</td>\n",
              "      <td>...</td>\n",
              "      <td>...</td>\n",
              "      <td>...</td>\n",
              "      <td>...</td>\n",
              "    </tr>\n",
              "    <tr>\n",
              "      <th>151</th>\n",
              "      <td>152</td>\n",
              "      <td>Rwanda</td>\n",
              "      <td>3.334</td>\n",
              "      <td>0.359</td>\n",
              "      <td>0.711</td>\n",
              "      <td>0.614</td>\n",
              "      <td>0.555</td>\n",
              "      <td>0.217</td>\n",
              "      <td>0.411</td>\n",
              "    </tr>\n",
              "    <tr>\n",
              "      <th>152</th>\n",
              "      <td>153</td>\n",
              "      <td>Tanzania</td>\n",
              "      <td>3.231</td>\n",
              "      <td>0.476</td>\n",
              "      <td>0.885</td>\n",
              "      <td>0.499</td>\n",
              "      <td>0.417</td>\n",
              "      <td>0.276</td>\n",
              "      <td>0.147</td>\n",
              "    </tr>\n",
              "    <tr>\n",
              "      <th>153</th>\n",
              "      <td>154</td>\n",
              "      <td>Afghanistan</td>\n",
              "      <td>3.203</td>\n",
              "      <td>0.350</td>\n",
              "      <td>0.517</td>\n",
              "      <td>0.361</td>\n",
              "      <td>0.000</td>\n",
              "      <td>0.158</td>\n",
              "      <td>0.025</td>\n",
              "    </tr>\n",
              "    <tr>\n",
              "      <th>154</th>\n",
              "      <td>155</td>\n",
              "      <td>Central African Republic</td>\n",
              "      <td>3.083</td>\n",
              "      <td>0.026</td>\n",
              "      <td>0.000</td>\n",
              "      <td>0.105</td>\n",
              "      <td>0.225</td>\n",
              "      <td>0.235</td>\n",
              "      <td>0.035</td>\n",
              "    </tr>\n",
              "    <tr>\n",
              "      <th>155</th>\n",
              "      <td>156</td>\n",
              "      <td>South Sudan</td>\n",
              "      <td>2.853</td>\n",
              "      <td>0.306</td>\n",
              "      <td>0.575</td>\n",
              "      <td>0.295</td>\n",
              "      <td>0.010</td>\n",
              "      <td>0.202</td>\n",
              "      <td>0.091</td>\n",
              "    </tr>\n",
              "  </tbody>\n",
              "</table>\n",
              "<p>156 rows × 9 columns</p>\n",
              "</div>"
            ],
            "text/plain": [
              "     Overall rank         Country or region  Happiness  GDP per capita  \\\n",
              "0               1                   Finland      7.769           1.340   \n",
              "1               2                   Denmark      7.600           1.383   \n",
              "2               3                    Norway      7.554           1.488   \n",
              "3               4                   Iceland      7.494           1.380   \n",
              "4               5               Netherlands      7.488           1.396   \n",
              "..            ...                       ...        ...             ...   \n",
              "151           152                    Rwanda      3.334           0.359   \n",
              "152           153                  Tanzania      3.231           0.476   \n",
              "153           154               Afghanistan      3.203           0.350   \n",
              "154           155  Central African Republic      3.083           0.026   \n",
              "155           156               South Sudan      2.853           0.306   \n",
              "\n",
              "     Social support  Healthy life expectancy  Freedom to make life choices  \\\n",
              "0             1.587                    0.986                         0.596   \n",
              "1             1.573                    0.996                         0.592   \n",
              "2             1.582                    1.028                         0.603   \n",
              "3             1.624                    1.026                         0.591   \n",
              "4             1.522                    0.999                         0.557   \n",
              "..              ...                      ...                           ...   \n",
              "151           0.711                    0.614                         0.555   \n",
              "152           0.885                    0.499                         0.417   \n",
              "153           0.517                    0.361                         0.000   \n",
              "154           0.000                    0.105                         0.225   \n",
              "155           0.575                    0.295                         0.010   \n",
              "\n",
              "     Generosity  Absence of Corruption  \n",
              "0         0.153                  0.393  \n",
              "1         0.252                  0.410  \n",
              "2         0.271                  0.341  \n",
              "3         0.354                  0.118  \n",
              "4         0.322                  0.298  \n",
              "..          ...                    ...  \n",
              "151       0.217                  0.411  \n",
              "152       0.276                  0.147  \n",
              "153       0.158                  0.025  \n",
              "154       0.235                  0.035  \n",
              "155       0.202                  0.091  \n",
              "\n",
              "[156 rows x 9 columns]"
            ]
          },
          "execution_count": 19,
          "metadata": {},
          "output_type": "execute_result"
        }
      ],
      "source": [
        "happy_raw_df.rename(columns= {'Perceptions of corruption': 'Absence of Corruption', 'Score':'Happiness'}, inplace= True)\n",
        "\n",
        "happy_raw_df"
      ]
    },
    {
      "cell_type": "markdown",
      "metadata": {
        "id": "z2fOjrMaTjXH"
      },
      "source": [
        "### Let us find the max and min of each column to see if there are any data value too high or low to make sense. For example, negative values or a metric score that is higher than the overall score"
      ]
    },
    {
      "cell_type": "code",
      "execution_count": null,
      "metadata": {
        "id": "STBkz4a4TjXI",
        "outputId": "39deca3d-adcd-40a0-85ea-e4517c83866b"
      },
      "outputs": [
        {
          "data": {
            "text/plain": [
              "Overall rank                         156\n",
              "Country or region               Zimbabwe\n",
              "Happiness                          7.769\n",
              "GDP per capita                     1.684\n",
              "Social support                     1.624\n",
              "Healthy life expectancy            1.141\n",
              "Freedom to make life choices       0.631\n",
              "Generosity                         0.566\n",
              "Absence of Corruption              0.453\n",
              "dtype: object"
            ]
          },
          "execution_count": 20,
          "metadata": {},
          "output_type": "execute_result"
        }
      ],
      "source": [
        "happy_raw_df.max(axis= 0)   #the highest value of each column"
      ]
    },
    {
      "cell_type": "code",
      "execution_count": null,
      "metadata": {
        "scrolled": true,
        "id": "BHLpO1nJTjXJ",
        "outputId": "b569b092-2ebe-4fa9-ab75-780d2d729c44"
      },
      "outputs": [
        {
          "data": {
            "text/plain": [
              "Overall rank                              1\n",
              "Country or region               Afghanistan\n",
              "Happiness                             2.853\n",
              "GDP per capita                          0.0\n",
              "Social support                          0.0\n",
              "Healthy life expectancy                 0.0\n",
              "Freedom to make life choices            0.0\n",
              "Generosity                              0.0\n",
              "Absence of Corruption                   0.0\n",
              "dtype: object"
            ]
          },
          "execution_count": 21,
          "metadata": {},
          "output_type": "execute_result"
        }
      ],
      "source": [
        "happy_raw_df.min(axis= 0)    #the lowest value of each column"
      ]
    },
    {
      "cell_type": "markdown",
      "metadata": {
        "id": "b1nLzFIQTjXK"
      },
      "source": [
        "#### Note: for the min, the zeros mean that in each column, there is at lease one country where a certain metric contributes nothing to the overall happiness score of a country"
      ]
    },
    {
      "cell_type": "code",
      "execution_count": null,
      "metadata": {
        "id": "2Y4boQYBTjXL",
        "outputId": "50e94432-6edc-490e-fa74-08d848c96620"
      },
      "outputs": [
        {
          "data": {
            "text/html": [
              "<div>\n",
              "<style scoped>\n",
              "    .dataframe tbody tr th:only-of-type {\n",
              "        vertical-align: middle;\n",
              "    }\n",
              "\n",
              "    .dataframe tbody tr th {\n",
              "        vertical-align: top;\n",
              "    }\n",
              "\n",
              "    .dataframe thead th {\n",
              "        text-align: right;\n",
              "    }\n",
              "</style>\n",
              "<table border=\"1\" class=\"dataframe\">\n",
              "  <thead>\n",
              "    <tr style=\"text-align: right;\">\n",
              "      <th></th>\n",
              "      <th>Overall rank</th>\n",
              "      <th>Happiness</th>\n",
              "      <th>GDP per capita</th>\n",
              "      <th>Social support</th>\n",
              "      <th>Healthy life expectancy</th>\n",
              "      <th>Freedom to make life choices</th>\n",
              "      <th>Generosity</th>\n",
              "      <th>Absence of Corruption</th>\n",
              "    </tr>\n",
              "  </thead>\n",
              "  <tbody>\n",
              "    <tr>\n",
              "      <th>count</th>\n",
              "      <td>156.000000</td>\n",
              "      <td>156.000000</td>\n",
              "      <td>156.000000</td>\n",
              "      <td>156.000000</td>\n",
              "      <td>156.000000</td>\n",
              "      <td>156.000000</td>\n",
              "      <td>156.000000</td>\n",
              "      <td>156.000000</td>\n",
              "    </tr>\n",
              "    <tr>\n",
              "      <th>mean</th>\n",
              "      <td>78.500000</td>\n",
              "      <td>5.407096</td>\n",
              "      <td>0.905147</td>\n",
              "      <td>1.208814</td>\n",
              "      <td>0.725244</td>\n",
              "      <td>0.392571</td>\n",
              "      <td>0.184846</td>\n",
              "      <td>0.110603</td>\n",
              "    </tr>\n",
              "    <tr>\n",
              "      <th>std</th>\n",
              "      <td>45.177428</td>\n",
              "      <td>1.113120</td>\n",
              "      <td>0.398389</td>\n",
              "      <td>0.299191</td>\n",
              "      <td>0.242124</td>\n",
              "      <td>0.143289</td>\n",
              "      <td>0.095254</td>\n",
              "      <td>0.094538</td>\n",
              "    </tr>\n",
              "    <tr>\n",
              "      <th>min</th>\n",
              "      <td>1.000000</td>\n",
              "      <td>2.853000</td>\n",
              "      <td>0.000000</td>\n",
              "      <td>0.000000</td>\n",
              "      <td>0.000000</td>\n",
              "      <td>0.000000</td>\n",
              "      <td>0.000000</td>\n",
              "      <td>0.000000</td>\n",
              "    </tr>\n",
              "    <tr>\n",
              "      <th>25%</th>\n",
              "      <td>39.750000</td>\n",
              "      <td>4.544500</td>\n",
              "      <td>0.602750</td>\n",
              "      <td>1.055750</td>\n",
              "      <td>0.547750</td>\n",
              "      <td>0.308000</td>\n",
              "      <td>0.108750</td>\n",
              "      <td>0.047000</td>\n",
              "    </tr>\n",
              "    <tr>\n",
              "      <th>50%</th>\n",
              "      <td>78.500000</td>\n",
              "      <td>5.379500</td>\n",
              "      <td>0.960000</td>\n",
              "      <td>1.271500</td>\n",
              "      <td>0.789000</td>\n",
              "      <td>0.417000</td>\n",
              "      <td>0.177500</td>\n",
              "      <td>0.085500</td>\n",
              "    </tr>\n",
              "    <tr>\n",
              "      <th>75%</th>\n",
              "      <td>117.250000</td>\n",
              "      <td>6.184500</td>\n",
              "      <td>1.232500</td>\n",
              "      <td>1.452500</td>\n",
              "      <td>0.881750</td>\n",
              "      <td>0.507250</td>\n",
              "      <td>0.248250</td>\n",
              "      <td>0.141250</td>\n",
              "    </tr>\n",
              "    <tr>\n",
              "      <th>max</th>\n",
              "      <td>156.000000</td>\n",
              "      <td>7.769000</td>\n",
              "      <td>1.684000</td>\n",
              "      <td>1.624000</td>\n",
              "      <td>1.141000</td>\n",
              "      <td>0.631000</td>\n",
              "      <td>0.566000</td>\n",
              "      <td>0.453000</td>\n",
              "    </tr>\n",
              "  </tbody>\n",
              "</table>\n",
              "</div>"
            ],
            "text/plain": [
              "       Overall rank   Happiness  GDP per capita  Social support  \\\n",
              "count    156.000000  156.000000      156.000000      156.000000   \n",
              "mean      78.500000    5.407096        0.905147        1.208814   \n",
              "std       45.177428    1.113120        0.398389        0.299191   \n",
              "min        1.000000    2.853000        0.000000        0.000000   \n",
              "25%       39.750000    4.544500        0.602750        1.055750   \n",
              "50%       78.500000    5.379500        0.960000        1.271500   \n",
              "75%      117.250000    6.184500        1.232500        1.452500   \n",
              "max      156.000000    7.769000        1.684000        1.624000   \n",
              "\n",
              "       Healthy life expectancy  Freedom to make life choices  Generosity  \\\n",
              "count               156.000000                    156.000000  156.000000   \n",
              "mean                  0.725244                      0.392571    0.184846   \n",
              "std                   0.242124                      0.143289    0.095254   \n",
              "min                   0.000000                      0.000000    0.000000   \n",
              "25%                   0.547750                      0.308000    0.108750   \n",
              "50%                   0.789000                      0.417000    0.177500   \n",
              "75%                   0.881750                      0.507250    0.248250   \n",
              "max                   1.141000                      0.631000    0.566000   \n",
              "\n",
              "       Absence of Corruption  \n",
              "count             156.000000  \n",
              "mean                0.110603  \n",
              "std                 0.094538  \n",
              "min                 0.000000  \n",
              "25%                 0.047000  \n",
              "50%                 0.085500  \n",
              "75%                 0.141250  \n",
              "max                 0.453000  "
            ]
          },
          "execution_count": 22,
          "metadata": {},
          "output_type": "execute_result"
        }
      ],
      "source": [
        "happy_raw_df.describe() #the descriptive statistics of the dataset"
      ]
    },
    {
      "cell_type": "code",
      "execution_count": null,
      "metadata": {
        "scrolled": true,
        "id": "qg-a1r-6TjXM",
        "outputId": "d27c8636-641b-4bce-8562-00e75556fbdd"
      },
      "outputs": [
        {
          "data": {
            "text/html": [
              "<div>\n",
              "<style scoped>\n",
              "    .dataframe tbody tr th:only-of-type {\n",
              "        vertical-align: middle;\n",
              "    }\n",
              "\n",
              "    .dataframe tbody tr th {\n",
              "        vertical-align: top;\n",
              "    }\n",
              "\n",
              "    .dataframe thead th {\n",
              "        text-align: right;\n",
              "    }\n",
              "</style>\n",
              "<table border=\"1\" class=\"dataframe\">\n",
              "  <thead>\n",
              "    <tr style=\"text-align: right;\">\n",
              "      <th></th>\n",
              "      <th>Overall rank</th>\n",
              "      <th>Country or region</th>\n",
              "      <th>Happiness</th>\n",
              "      <th>GDP per capita</th>\n",
              "      <th>Social support</th>\n",
              "      <th>Healthy life expectancy</th>\n",
              "      <th>Freedom to make life choices</th>\n",
              "      <th>Generosity</th>\n",
              "      <th>Absence of Corruption</th>\n",
              "    </tr>\n",
              "  </thead>\n",
              "  <tbody>\n",
              "    <tr>\n",
              "      <th>70</th>\n",
              "      <td>71</td>\n",
              "      <td>Moldova</td>\n",
              "      <td>5.529</td>\n",
              "      <td>0.685</td>\n",
              "      <td>1.328</td>\n",
              "      <td>0.739</td>\n",
              "      <td>0.245</td>\n",
              "      <td>0.181</td>\n",
              "      <td>0.000</td>\n",
              "    </tr>\n",
              "    <tr>\n",
              "      <th>81</th>\n",
              "      <td>82</td>\n",
              "      <td>Greece</td>\n",
              "      <td>5.287</td>\n",
              "      <td>1.181</td>\n",
              "      <td>1.156</td>\n",
              "      <td>0.999</td>\n",
              "      <td>0.067</td>\n",
              "      <td>0.000</td>\n",
              "      <td>0.034</td>\n",
              "    </tr>\n",
              "    <tr>\n",
              "      <th>111</th>\n",
              "      <td>112</td>\n",
              "      <td>Somalia</td>\n",
              "      <td>4.668</td>\n",
              "      <td>0.000</td>\n",
              "      <td>0.698</td>\n",
              "      <td>0.268</td>\n",
              "      <td>0.559</td>\n",
              "      <td>0.243</td>\n",
              "      <td>0.270</td>\n",
              "    </tr>\n",
              "    <tr>\n",
              "      <th>134</th>\n",
              "      <td>135</td>\n",
              "      <td>Swaziland</td>\n",
              "      <td>4.212</td>\n",
              "      <td>0.811</td>\n",
              "      <td>1.149</td>\n",
              "      <td>0.000</td>\n",
              "      <td>0.313</td>\n",
              "      <td>0.074</td>\n",
              "      <td>0.135</td>\n",
              "    </tr>\n",
              "    <tr>\n",
              "      <th>153</th>\n",
              "      <td>154</td>\n",
              "      <td>Afghanistan</td>\n",
              "      <td>3.203</td>\n",
              "      <td>0.350</td>\n",
              "      <td>0.517</td>\n",
              "      <td>0.361</td>\n",
              "      <td>0.000</td>\n",
              "      <td>0.158</td>\n",
              "      <td>0.025</td>\n",
              "    </tr>\n",
              "    <tr>\n",
              "      <th>154</th>\n",
              "      <td>155</td>\n",
              "      <td>Central African Republic</td>\n",
              "      <td>3.083</td>\n",
              "      <td>0.026</td>\n",
              "      <td>0.000</td>\n",
              "      <td>0.105</td>\n",
              "      <td>0.225</td>\n",
              "      <td>0.235</td>\n",
              "      <td>0.035</td>\n",
              "    </tr>\n",
              "  </tbody>\n",
              "</table>\n",
              "</div>"
            ],
            "text/plain": [
              "     Overall rank         Country or region  Happiness  GDP per capita  \\\n",
              "70             71                   Moldova      5.529           0.685   \n",
              "81             82                    Greece      5.287           1.181   \n",
              "111           112                   Somalia      4.668           0.000   \n",
              "134           135                 Swaziland      4.212           0.811   \n",
              "153           154               Afghanistan      3.203           0.350   \n",
              "154           155  Central African Republic      3.083           0.026   \n",
              "\n",
              "     Social support  Healthy life expectancy  Freedom to make life choices  \\\n",
              "70            1.328                    0.739                         0.245   \n",
              "81            1.156                    0.999                         0.067   \n",
              "111           0.698                    0.268                         0.559   \n",
              "134           1.149                    0.000                         0.313   \n",
              "153           0.517                    0.361                         0.000   \n",
              "154           0.000                    0.105                         0.225   \n",
              "\n",
              "     Generosity  Absence of Corruption  \n",
              "70        0.181                  0.000  \n",
              "81        0.000                  0.034  \n",
              "111       0.243                  0.270  \n",
              "134       0.074                  0.135  \n",
              "153       0.158                  0.025  \n",
              "154       0.235                  0.035  "
            ]
          },
          "execution_count": 23,
          "metadata": {},
          "output_type": "execute_result"
        }
      ],
      "source": [
        "zero_metric = happy_raw_df[(happy_raw_df['GDP per capita'] == 0)|\n",
        "                           (happy_raw_df['Social support'] == 0)|\n",
        "                           (happy_raw_df['Healthy life expectancy'] == 0)|\n",
        "                           (happy_raw_df['Freedom to make life choices'] == 0)|\n",
        "                           (happy_raw_df['Generosity'] == 0)|\n",
        "                           (happy_raw_df['Absence of Corruption'] == 0)]\n",
        "zero_metric"
      ]
    },
    {
      "cell_type": "markdown",
      "metadata": {
        "id": "GoK8xycjTjXN"
      },
      "source": [
        "### It's very unlikely that any metric contributes nothing to the overall score. Zero values can be explained by standard deviation since the actual numbers can be a little higher or lower. For this reason, I will turn all 0.00 values to NaN to make the dataset slighty more accurate."
      ]
    },
    {
      "cell_type": "code",
      "execution_count": null,
      "metadata": {
        "scrolled": true,
        "id": "arbgt7uFTjXO",
        "outputId": "3f61e4e1-14d0-49c3-ea92-7c60f87899bb"
      },
      "outputs": [
        {
          "data": {
            "text/html": [
              "<div>\n",
              "<style scoped>\n",
              "    .dataframe tbody tr th:only-of-type {\n",
              "        vertical-align: middle;\n",
              "    }\n",
              "\n",
              "    .dataframe tbody tr th {\n",
              "        vertical-align: top;\n",
              "    }\n",
              "\n",
              "    .dataframe thead th {\n",
              "        text-align: right;\n",
              "    }\n",
              "</style>\n",
              "<table border=\"1\" class=\"dataframe\">\n",
              "  <thead>\n",
              "    <tr style=\"text-align: right;\">\n",
              "      <th></th>\n",
              "      <th>Overall rank</th>\n",
              "      <th>Happiness</th>\n",
              "      <th>GDP per capita</th>\n",
              "      <th>Social support</th>\n",
              "      <th>Healthy life expectancy</th>\n",
              "      <th>Freedom to make life choices</th>\n",
              "      <th>Generosity</th>\n",
              "      <th>Absence of Corruption</th>\n",
              "    </tr>\n",
              "  </thead>\n",
              "  <tbody>\n",
              "    <tr>\n",
              "      <th>count</th>\n",
              "      <td>156.000000</td>\n",
              "      <td>156.000000</td>\n",
              "      <td>155.000000</td>\n",
              "      <td>155.000000</td>\n",
              "      <td>155.000000</td>\n",
              "      <td>155.000000</td>\n",
              "      <td>155.000000</td>\n",
              "      <td>155.000000</td>\n",
              "    </tr>\n",
              "    <tr>\n",
              "      <th>mean</th>\n",
              "      <td>78.500000</td>\n",
              "      <td>5.407096</td>\n",
              "      <td>0.910987</td>\n",
              "      <td>1.216613</td>\n",
              "      <td>0.729923</td>\n",
              "      <td>0.395103</td>\n",
              "      <td>0.186039</td>\n",
              "      <td>0.111316</td>\n",
              "    </tr>\n",
              "    <tr>\n",
              "      <th>std</th>\n",
              "      <td>45.177428</td>\n",
              "      <td>1.113120</td>\n",
              "      <td>0.392925</td>\n",
              "      <td>0.283808</td>\n",
              "      <td>0.235727</td>\n",
              "      <td>0.140207</td>\n",
              "      <td>0.094388</td>\n",
              "      <td>0.094422</td>\n",
              "    </tr>\n",
              "    <tr>\n",
              "      <th>min</th>\n",
              "      <td>1.000000</td>\n",
              "      <td>2.853000</td>\n",
              "      <td>0.026000</td>\n",
              "      <td>0.378000</td>\n",
              "      <td>0.105000</td>\n",
              "      <td>0.010000</td>\n",
              "      <td>0.025000</td>\n",
              "      <td>0.004000</td>\n",
              "    </tr>\n",
              "    <tr>\n",
              "      <th>25%</th>\n",
              "      <td>39.750000</td>\n",
              "      <td>4.544500</td>\n",
              "      <td>0.615000</td>\n",
              "      <td>1.057000</td>\n",
              "      <td>0.553000</td>\n",
              "      <td>0.310000</td>\n",
              "      <td>0.109500</td>\n",
              "      <td>0.048500</td>\n",
              "    </tr>\n",
              "    <tr>\n",
              "      <th>50%</th>\n",
              "      <td>78.500000</td>\n",
              "      <td>5.379500</td>\n",
              "      <td>0.960000</td>\n",
              "      <td>1.274000</td>\n",
              "      <td>0.789000</td>\n",
              "      <td>0.417000</td>\n",
              "      <td>0.178000</td>\n",
              "      <td>0.086000</td>\n",
              "    </tr>\n",
              "    <tr>\n",
              "      <th>75%</th>\n",
              "      <td>117.250000</td>\n",
              "      <td>6.184500</td>\n",
              "      <td>1.234000</td>\n",
              "      <td>1.453000</td>\n",
              "      <td>0.882500</td>\n",
              "      <td>0.507500</td>\n",
              "      <td>0.249500</td>\n",
              "      <td>0.141500</td>\n",
              "    </tr>\n",
              "    <tr>\n",
              "      <th>max</th>\n",
              "      <td>156.000000</td>\n",
              "      <td>7.769000</td>\n",
              "      <td>1.684000</td>\n",
              "      <td>1.624000</td>\n",
              "      <td>1.141000</td>\n",
              "      <td>0.631000</td>\n",
              "      <td>0.566000</td>\n",
              "      <td>0.453000</td>\n",
              "    </tr>\n",
              "  </tbody>\n",
              "</table>\n",
              "</div>"
            ],
            "text/plain": [
              "       Overall rank   Happiness  GDP per capita  Social support  \\\n",
              "count    156.000000  156.000000      155.000000      155.000000   \n",
              "mean      78.500000    5.407096        0.910987        1.216613   \n",
              "std       45.177428    1.113120        0.392925        0.283808   \n",
              "min        1.000000    2.853000        0.026000        0.378000   \n",
              "25%       39.750000    4.544500        0.615000        1.057000   \n",
              "50%       78.500000    5.379500        0.960000        1.274000   \n",
              "75%      117.250000    6.184500        1.234000        1.453000   \n",
              "max      156.000000    7.769000        1.684000        1.624000   \n",
              "\n",
              "       Healthy life expectancy  Freedom to make life choices  Generosity  \\\n",
              "count               155.000000                    155.000000  155.000000   \n",
              "mean                  0.729923                      0.395103    0.186039   \n",
              "std                   0.235727                      0.140207    0.094388   \n",
              "min                   0.105000                      0.010000    0.025000   \n",
              "25%                   0.553000                      0.310000    0.109500   \n",
              "50%                   0.789000                      0.417000    0.178000   \n",
              "75%                   0.882500                      0.507500    0.249500   \n",
              "max                   1.141000                      0.631000    0.566000   \n",
              "\n",
              "       Absence of Corruption  \n",
              "count             155.000000  \n",
              "mean                0.111316  \n",
              "std                 0.094422  \n",
              "min                 0.004000  \n",
              "25%                 0.048500  \n",
              "50%                 0.086000  \n",
              "75%                 0.141500  \n",
              "max                 0.453000  "
            ]
          },
          "execution_count": 24,
          "metadata": {},
          "output_type": "execute_result"
        }
      ],
      "source": [
        "happy_df = happy_raw_df.replace(to_replace= 0, value= np.nan) #replace all zeros in the dataframe with NaN\n",
        "happy_df.describe()"
      ]
    },
    {
      "cell_type": "markdown",
      "metadata": {
        "id": "A2LkJeMUTjXO"
      },
      "source": [
        "### There are no longer zeroes in the minimum row"
      ]
    },
    {
      "cell_type": "markdown",
      "metadata": {
        "id": "R-XonwbxTjXP"
      },
      "source": [
        "# Question 1: Many people believe that the GDP per capita of a country is the main contributing factor to overall well being. How true is this? "
      ]
    },
    {
      "cell_type": "code",
      "execution_count": null,
      "metadata": {
        "id": "a0_uiIk8TjXP",
        "outputId": "62b1a46c-3718-433a-f67c-d9b6e7a95baa"
      },
      "outputs": [
        {
          "data": {
            "image/png": "[encoded data removed]",
            "text/plain": [
              "<Figure size 864x360 with 1 Axes>"
            ]
          },
          "metadata": {
            "needs_background": "light"
          },
          "output_type": "display_data"
        }
      ],
      "source": [
        "sns.scatterplot(x=happy_df['GDP per capita'] ,y= happy_df['Happiness']);"
      ]
    },
    {
      "cell_type": "code",
      "execution_count": null,
      "metadata": {
        "scrolled": false,
        "id": "tTloq_WXTjXQ",
        "outputId": "73cb5e8b-71e6-401d-8dce-43b5da718b37"
      },
      "outputs": [
        {
          "data": {
            "image/png": "[encoded data removed]",
            "text/plain": [
              "<Figure size 864x360 with 1 Axes>"
            ]
          },
          "metadata": {
            "needs_background": "light"
          },
          "output_type": "display_data"
        }
      ],
      "source": [
        "sns.regplot(x=happy_df['GDP per capita'] ,y= happy_df['Happiness']);"
      ]
    },
    {
      "cell_type": "markdown",
      "metadata": {
        "id": "vvYB1ZOlTjXR"
      },
      "source": [
        "### Let us apply the Pearson's correlation coefficient to determine which variables are strongly correlated with each other."
      ]
    },
    {
      "cell_type": "markdown",
      "metadata": {
        "id": "obd3dIF6TjXR"
      },
      "source": [
        "### However before we apply the correlation coefficient we must first make sure that the data nomially distributed if I want to use Pearson's coefficient"
      ]
    },
    {
      "cell_type": "code",
      "execution_count": null,
      "metadata": {
        "scrolled": true,
        "id": "mtN0nMbDTjXS",
        "outputId": "82ba8d1f-ad96-4eb6-8ed3-a8fc5a9152f8"
      },
      "outputs": [
        {
          "name": "stderr",
          "output_type": "stream",
          "text": [
            "/opt/conda/lib/python3.9/site-packages/statsmodels/graphics/gofplots.py:993: UserWarning: marker is redundantly defined by the 'marker' keyword argument and the fmt string \"bo\" (-> marker='o'). The keyword argument will take precedence.\n",
            "  ax.plot(x, y, fmt, **plot_style)\n"
          ]
        },
        {
          "data": {
            "image/png": "[encoded data removed]",
            "text/plain": [
              "<Figure size 864x360 with 1 Axes>"
            ]
          },
          "metadata": {
            "needs_background": "light"
          },
          "output_type": "display_data"
        }
      ],
      "source": [
        "sm.qqplot(np.random.normal(0,1, 1000), line ='s');"
      ]
    },
    {
      "cell_type": "markdown",
      "metadata": {
        "id": "KQYT3GXbTjXT"
      },
      "source": [
        "## The quantiles of the input array is plotted against the quantile of a theoretical normal distribution to see whether the input array is normally distributed"
      ]
    },
    {
      "cell_type": "code",
      "execution_count": null,
      "metadata": {
        "scrolled": false,
        "id": "4gut2DbLTjXU",
        "outputId": "392cb5e0-d35c-4380-fc0d-1bde3ea9ba6b"
      },
      "outputs": [
        {
          "name": "stderr",
          "output_type": "stream",
          "text": [
            "/opt/conda/lib/python3.9/site-packages/statsmodels/graphics/gofplots.py:993: UserWarning: marker is redundantly defined by the 'marker' keyword argument and the fmt string \"bo\" (-> marker='o'). The keyword argument will take precedence.\n",
            "  ax.plot(x, y, fmt, **plot_style)\n"
          ]
        },
        {
          "data": {
            "image/png": "[encoded data removed]",
            "text/plain": [
              "<Figure size 864x360 with 1 Axes>"
            ]
          },
          "metadata": {
            "needs_background": "light"
          },
          "output_type": "display_data"
        }
      ],
      "source": [
        "sm.qqplot(happy_df['GDP per capita'], line ='45');"
      ]
    },
    {
      "cell_type": "code",
      "execution_count": null,
      "metadata": {
        "scrolled": true,
        "id": "-JhODGloTjXV",
        "outputId": "80dc5f59-872b-4ac4-e15a-41c041d7f9b3"
      },
      "outputs": [
        {
          "name": "stderr",
          "output_type": "stream",
          "text": [
            "/opt/conda/lib/python3.9/site-packages/statsmodels/graphics/gofplots.py:993: UserWarning: marker is redundantly defined by the 'marker' keyword argument and the fmt string \"bo\" (-> marker='o'). The keyword argument will take precedence.\n",
            "  ax.plot(x, y, fmt, **plot_style)\n"
          ]
        },
        {
          "data": {
            "image/png": "[encoded data removed]",
            "text/plain": [
              "<Figure size 864x360 with 1 Axes>"
            ]
          },
          "metadata": {
            "needs_background": "light"
          },
          "output_type": "display_data"
        }
      ],
      "source": [
        "sm.qqplot(happy_df['Happiness'], line ='s'); #happiness metric is a normal distribution"
      ]
    },
    {
      "cell_type": "markdown",
      "metadata": {
        "id": "FpgiL94aTjXV"
      },
      "source": [
        "### Since both variables have to be normally distributed. Using Pearson's correlation coefficient is not appropriate. Instead I should use Spearman's correlation coefficient since that does not require both variables to be normally distributed."
      ]
    },
    {
      "cell_type": "code",
      "execution_count": null,
      "metadata": {
        "id": "dL_Db1pzTjXW",
        "outputId": "28aa44a4-9c23-442a-f112-a650e1b8e3a2"
      },
      "outputs": [
        {
          "data": {
            "text/html": [
              "<div>\n",
              "<style scoped>\n",
              "    .dataframe tbody tr th:only-of-type {\n",
              "        vertical-align: middle;\n",
              "    }\n",
              "\n",
              "    .dataframe tbody tr th {\n",
              "        vertical-align: top;\n",
              "    }\n",
              "\n",
              "    .dataframe thead th {\n",
              "        text-align: right;\n",
              "    }\n",
              "</style>\n",
              "<table border=\"1\" class=\"dataframe\">\n",
              "  <thead>\n",
              "    <tr style=\"text-align: right;\">\n",
              "      <th></th>\n",
              "      <th>Overall rank</th>\n",
              "      <th>Happiness</th>\n",
              "      <th>GDP per capita</th>\n",
              "      <th>Social support</th>\n",
              "      <th>Healthy life expectancy</th>\n",
              "      <th>Freedom to make life choices</th>\n",
              "      <th>Generosity</th>\n",
              "      <th>Absence of Corruption</th>\n",
              "    </tr>\n",
              "  </thead>\n",
              "  <tbody>\n",
              "    <tr>\n",
              "      <th>Overall rank</th>\n",
              "      <td>1.000000</td>\n",
              "      <td>-0.999999</td>\n",
              "      <td>-0.815454</td>\n",
              "      <td>-0.812565</td>\n",
              "      <td>-0.805284</td>\n",
              "      <td>-0.543359</td>\n",
              "      <td>-0.071118</td>\n",
              "      <td>-0.221746</td>\n",
              "    </tr>\n",
              "    <tr>\n",
              "      <th>Happiness</th>\n",
              "      <td>-0.999999</td>\n",
              "      <td>1.000000</td>\n",
              "      <td>0.815508</td>\n",
              "      <td>0.812622</td>\n",
              "      <td>0.805280</td>\n",
              "      <td>0.543319</td>\n",
              "      <td>0.071116</td>\n",
              "      <td>0.221857</td>\n",
              "    </tr>\n",
              "    <tr>\n",
              "      <th>GDP per capita</th>\n",
              "      <td>-0.815454</td>\n",
              "      <td>0.815508</td>\n",
              "      <td>1.000000</td>\n",
              "      <td>0.760059</td>\n",
              "      <td>0.852858</td>\n",
              "      <td>0.406174</td>\n",
              "      <td>-0.030124</td>\n",
              "      <td>0.236594</td>\n",
              "    </tr>\n",
              "    <tr>\n",
              "      <th>Social support</th>\n",
              "      <td>-0.812565</td>\n",
              "      <td>0.812622</td>\n",
              "      <td>0.760059</td>\n",
              "      <td>1.000000</td>\n",
              "      <td>0.721248</td>\n",
              "      <td>0.431488</td>\n",
              "      <td>0.008369</td>\n",
              "      <td>0.108924</td>\n",
              "    </tr>\n",
              "    <tr>\n",
              "      <th>Healthy life expectancy</th>\n",
              "      <td>-0.805284</td>\n",
              "      <td>0.805280</td>\n",
              "      <td>0.852858</td>\n",
              "      <td>0.721248</td>\n",
              "      <td>1.000000</td>\n",
              "      <td>0.399853</td>\n",
              "      <td>-0.009555</td>\n",
              "      <td>0.174115</td>\n",
              "    </tr>\n",
              "    <tr>\n",
              "      <th>Freedom to make life choices</th>\n",
              "      <td>-0.543359</td>\n",
              "      <td>0.543319</td>\n",
              "      <td>0.406174</td>\n",
              "      <td>0.431488</td>\n",
              "      <td>0.399853</td>\n",
              "      <td>1.000000</td>\n",
              "      <td>0.313809</td>\n",
              "      <td>0.387857</td>\n",
              "    </tr>\n",
              "    <tr>\n",
              "      <th>Generosity</th>\n",
              "      <td>-0.071118</td>\n",
              "      <td>0.071116</td>\n",
              "      <td>-0.030124</td>\n",
              "      <td>0.008369</td>\n",
              "      <td>-0.009555</td>\n",
              "      <td>0.313809</td>\n",
              "      <td>1.000000</td>\n",
              "      <td>0.281582</td>\n",
              "    </tr>\n",
              "    <tr>\n",
              "      <th>Absence of Corruption</th>\n",
              "      <td>-0.221746</td>\n",
              "      <td>0.221857</td>\n",
              "      <td>0.236594</td>\n",
              "      <td>0.108924</td>\n",
              "      <td>0.174115</td>\n",
              "      <td>0.387857</td>\n",
              "      <td>0.281582</td>\n",
              "      <td>1.000000</td>\n",
              "    </tr>\n",
              "  </tbody>\n",
              "</table>\n",
              "</div>"
            ],
            "text/plain": [
              "                              Overall rank  Happiness  GDP per capita  \\\n",
              "Overall rank                      1.000000  -0.999999       -0.815454   \n",
              "Happiness                        -0.999999   1.000000        0.815508   \n",
              "GDP per capita                   -0.815454   0.815508        1.000000   \n",
              "Social support                   -0.812565   0.812622        0.760059   \n",
              "Healthy life expectancy          -0.805284   0.805280        0.852858   \n",
              "Freedom to make life choices     -0.543359   0.543319        0.406174   \n",
              "Generosity                       -0.071118   0.071116       -0.030124   \n",
              "Absence of Corruption            -0.221746   0.221857        0.236594   \n",
              "\n",
              "                              Social support  Healthy life expectancy  \\\n",
              "Overall rank                       -0.812565                -0.805284   \n",
              "Happiness                           0.812622                 0.805280   \n",
              "GDP per capita                      0.760059                 0.852858   \n",
              "Social support                      1.000000                 0.721248   \n",
              "Healthy life expectancy             0.721248                 1.000000   \n",
              "Freedom to make life choices        0.431488                 0.399853   \n",
              "Generosity                          0.008369                -0.009555   \n",
              "Absence of Corruption               0.108924                 0.174115   \n",
              "\n",
              "                              Freedom to make life choices  Generosity  \\\n",
              "Overall rank                                     -0.543359   -0.071118   \n",
              "Happiness                                         0.543319    0.071116   \n",
              "GDP per capita                                    0.406174   -0.030124   \n",
              "Social support                                    0.431488    0.008369   \n",
              "Healthy life expectancy                           0.399853   -0.009555   \n",
              "Freedom to make life choices                      1.000000    0.313809   \n",
              "Generosity                                        0.313809    1.000000   \n",
              "Absence of Corruption                             0.387857    0.281582   \n",
              "\n",
              "                              Absence of Corruption  \n",
              "Overall rank                              -0.221746  \n",
              "Happiness                                  0.221857  \n",
              "GDP per capita                             0.236594  \n",
              "Social support                             0.108924  \n",
              "Healthy life expectancy                    0.174115  \n",
              "Freedom to make life choices               0.387857  \n",
              "Generosity                                 0.281582  \n",
              "Absence of Corruption                      1.000000  "
            ]
          },
          "execution_count": 30,
          "metadata": {},
          "output_type": "execute_result"
        }
      ],
      "source": [
        "corr_spearman = happy_df.corr(method = 'spearman') #apply spearman's correlation coefficient to the dataframe\n",
        "corr_spearman"
      ]
    },
    {
      "cell_type": "markdown",
      "metadata": {
        "id": "6GCM5RJjTjXX"
      },
      "source": [
        "### The correlation value between gdp per capita and happiness is a strong one at approximately p = 0.82. This confirms the relationship we see in the scatter graph is valid"
      ]
    },
    {
      "cell_type": "markdown",
      "metadata": {
        "id": "I3k2ccjuTjXX"
      },
      "source": [
        "### For reference, a distribution of 0.8-1.0 is strong while 0.5-0.79 is moderate. Anything below 0.5 is a weak correlation."
      ]
    },
    {
      "cell_type": "markdown",
      "metadata": {
        "id": "CV-qL9r5TjXY"
      },
      "source": [
        "# Question 2: Which metric overall contribute the most to the happiness score of a nation on average?"
      ]
    },
    {
      "cell_type": "code",
      "execution_count": null,
      "metadata": {
        "scrolled": true,
        "id": "bql8TVCcTjXY",
        "outputId": "ce1d8e6e-e221-4b41-bcc6-fc7fc74184f4"
      },
      "outputs": [
        {
          "data": {
            "text/html": [
              "<div>\n",
              "<style scoped>\n",
              "    .dataframe tbody tr th:only-of-type {\n",
              "        vertical-align: middle;\n",
              "    }\n",
              "\n",
              "    .dataframe tbody tr th {\n",
              "        vertical-align: top;\n",
              "    }\n",
              "\n",
              "    .dataframe thead th {\n",
              "        text-align: right;\n",
              "    }\n",
              "</style>\n",
              "<table border=\"1\" class=\"dataframe\">\n",
              "  <thead>\n",
              "    <tr style=\"text-align: right;\">\n",
              "      <th></th>\n",
              "      <th>Overall rank</th>\n",
              "      <th>Country or region</th>\n",
              "      <th>Happiness</th>\n",
              "      <th>GDP per capita</th>\n",
              "      <th>Social support</th>\n",
              "      <th>Healthy life expectancy</th>\n",
              "      <th>Freedom to make life choices</th>\n",
              "      <th>Generosity</th>\n",
              "      <th>Absence of Corruption</th>\n",
              "    </tr>\n",
              "  </thead>\n",
              "  <tbody>\n",
              "    <tr>\n",
              "      <th>0</th>\n",
              "      <td>1</td>\n",
              "      <td>Finland</td>\n",
              "      <td>7.769</td>\n",
              "      <td>1.340</td>\n",
              "      <td>1.587</td>\n",
              "      <td>0.986</td>\n",
              "      <td>0.596</td>\n",
              "      <td>0.153</td>\n",
              "      <td>0.393</td>\n",
              "    </tr>\n",
              "    <tr>\n",
              "      <th>1</th>\n",
              "      <td>2</td>\n",
              "      <td>Denmark</td>\n",
              "      <td>7.600</td>\n",
              "      <td>1.383</td>\n",
              "      <td>1.573</td>\n",
              "      <td>0.996</td>\n",
              "      <td>0.592</td>\n",
              "      <td>0.252</td>\n",
              "      <td>0.410</td>\n",
              "    </tr>\n",
              "    <tr>\n",
              "      <th>2</th>\n",
              "      <td>3</td>\n",
              "      <td>Norway</td>\n",
              "      <td>7.554</td>\n",
              "      <td>1.488</td>\n",
              "      <td>1.582</td>\n",
              "      <td>1.028</td>\n",
              "      <td>0.603</td>\n",
              "      <td>0.271</td>\n",
              "      <td>0.341</td>\n",
              "    </tr>\n",
              "    <tr>\n",
              "      <th>3</th>\n",
              "      <td>4</td>\n",
              "      <td>Iceland</td>\n",
              "      <td>7.494</td>\n",
              "      <td>1.380</td>\n",
              "      <td>1.624</td>\n",
              "      <td>1.026</td>\n",
              "      <td>0.591</td>\n",
              "      <td>0.354</td>\n",
              "      <td>0.118</td>\n",
              "    </tr>\n",
              "    <tr>\n",
              "      <th>4</th>\n",
              "      <td>5</td>\n",
              "      <td>Netherlands</td>\n",
              "      <td>7.488</td>\n",
              "      <td>1.396</td>\n",
              "      <td>1.522</td>\n",
              "      <td>0.999</td>\n",
              "      <td>0.557</td>\n",
              "      <td>0.322</td>\n",
              "      <td>0.298</td>\n",
              "    </tr>\n",
              "    <tr>\n",
              "      <th>...</th>\n",
              "      <td>...</td>\n",
              "      <td>...</td>\n",
              "      <td>...</td>\n",
              "      <td>...</td>\n",
              "      <td>...</td>\n",
              "      <td>...</td>\n",
              "      <td>...</td>\n",
              "      <td>...</td>\n",
              "      <td>...</td>\n",
              "    </tr>\n",
              "    <tr>\n",
              "      <th>151</th>\n",
              "      <td>152</td>\n",
              "      <td>Rwanda</td>\n",
              "      <td>3.334</td>\n",
              "      <td>0.359</td>\n",
              "      <td>0.711</td>\n",
              "      <td>0.614</td>\n",
              "      <td>0.555</td>\n",
              "      <td>0.217</td>\n",
              "      <td>0.411</td>\n",
              "    </tr>\n",
              "    <tr>\n",
              "      <th>152</th>\n",
              "      <td>153</td>\n",
              "      <td>Tanzania</td>\n",
              "      <td>3.231</td>\n",
              "      <td>0.476</td>\n",
              "      <td>0.885</td>\n",
              "      <td>0.499</td>\n",
              "      <td>0.417</td>\n",
              "      <td>0.276</td>\n",
              "      <td>0.147</td>\n",
              "    </tr>\n",
              "    <tr>\n",
              "      <th>153</th>\n",
              "      <td>154</td>\n",
              "      <td>Afghanistan</td>\n",
              "      <td>3.203</td>\n",
              "      <td>0.350</td>\n",
              "      <td>0.517</td>\n",
              "      <td>0.361</td>\n",
              "      <td>NaN</td>\n",
              "      <td>0.158</td>\n",
              "      <td>0.025</td>\n",
              "    </tr>\n",
              "    <tr>\n",
              "      <th>154</th>\n",
              "      <td>155</td>\n",
              "      <td>Central African Republic</td>\n",
              "      <td>3.083</td>\n",
              "      <td>0.026</td>\n",
              "      <td>NaN</td>\n",
              "      <td>0.105</td>\n",
              "      <td>0.225</td>\n",
              "      <td>0.235</td>\n",
              "      <td>0.035</td>\n",
              "    </tr>\n",
              "    <tr>\n",
              "      <th>155</th>\n",
              "      <td>156</td>\n",
              "      <td>South Sudan</td>\n",
              "      <td>2.853</td>\n",
              "      <td>0.306</td>\n",
              "      <td>0.575</td>\n",
              "      <td>0.295</td>\n",
              "      <td>0.010</td>\n",
              "      <td>0.202</td>\n",
              "      <td>0.091</td>\n",
              "    </tr>\n",
              "  </tbody>\n",
              "</table>\n",
              "<p>156 rows × 9 columns</p>\n",
              "</div>"
            ],
            "text/plain": [
              "     Overall rank         Country or region  Happiness  GDP per capita  \\\n",
              "0               1                   Finland      7.769           1.340   \n",
              "1               2                   Denmark      7.600           1.383   \n",
              "2               3                    Norway      7.554           1.488   \n",
              "3               4                   Iceland      7.494           1.380   \n",
              "4               5               Netherlands      7.488           1.396   \n",
              "..            ...                       ...        ...             ...   \n",
              "151           152                    Rwanda      3.334           0.359   \n",
              "152           153                  Tanzania      3.231           0.476   \n",
              "153           154               Afghanistan      3.203           0.350   \n",
              "154           155  Central African Republic      3.083           0.026   \n",
              "155           156               South Sudan      2.853           0.306   \n",
              "\n",
              "     Social support  Healthy life expectancy  Freedom to make life choices  \\\n",
              "0             1.587                    0.986                         0.596   \n",
              "1             1.573                    0.996                         0.592   \n",
              "2             1.582                    1.028                         0.603   \n",
              "3             1.624                    1.026                         0.591   \n",
              "4             1.522                    0.999                         0.557   \n",
              "..              ...                      ...                           ...   \n",
              "151           0.711                    0.614                         0.555   \n",
              "152           0.885                    0.499                         0.417   \n",
              "153           0.517                    0.361                           NaN   \n",
              "154             NaN                    0.105                         0.225   \n",
              "155           0.575                    0.295                         0.010   \n",
              "\n",
              "     Generosity  Absence of Corruption  \n",
              "0         0.153                  0.393  \n",
              "1         0.252                  0.410  \n",
              "2         0.271                  0.341  \n",
              "3         0.354                  0.118  \n",
              "4         0.322                  0.298  \n",
              "..          ...                    ...  \n",
              "151       0.217                  0.411  \n",
              "152       0.276                  0.147  \n",
              "153       0.158                  0.025  \n",
              "154       0.235                  0.035  \n",
              "155       0.202                  0.091  \n",
              "\n",
              "[156 rows x 9 columns]"
            ]
          },
          "execution_count": 31,
          "metadata": {},
          "output_type": "execute_result"
        }
      ],
      "source": [
        "happy_df"
      ]
    },
    {
      "cell_type": "code",
      "execution_count": null,
      "metadata": {
        "scrolled": true,
        "id": "re8nO3RbTjXZ",
        "outputId": "117a4b92-7bb4-4fd7-f9f1-bac2104adfcf"
      },
      "outputs": [
        {
          "data": {
            "text/html": [
              "<div>\n",
              "<style scoped>\n",
              "    .dataframe tbody tr th:only-of-type {\n",
              "        vertical-align: middle;\n",
              "    }\n",
              "\n",
              "    .dataframe tbody tr th {\n",
              "        vertical-align: top;\n",
              "    }\n",
              "\n",
              "    .dataframe thead th {\n",
              "        text-align: right;\n",
              "    }\n",
              "</style>\n",
              "<table border=\"1\" class=\"dataframe\">\n",
              "  <thead>\n",
              "    <tr style=\"text-align: right;\">\n",
              "      <th></th>\n",
              "      <th>Overall rank</th>\n",
              "      <th>Happiness</th>\n",
              "      <th>GDP per capita</th>\n",
              "      <th>Social support</th>\n",
              "      <th>Healthy life expectancy</th>\n",
              "      <th>Freedom to make life choices</th>\n",
              "      <th>Generosity</th>\n",
              "      <th>Absence of Corruption</th>\n",
              "    </tr>\n",
              "  </thead>\n",
              "  <tbody>\n",
              "    <tr>\n",
              "      <th>count</th>\n",
              "      <td>156.000000</td>\n",
              "      <td>156.000000</td>\n",
              "      <td>155.000000</td>\n",
              "      <td>155.000000</td>\n",
              "      <td>155.000000</td>\n",
              "      <td>155.000000</td>\n",
              "      <td>155.000000</td>\n",
              "      <td>155.000000</td>\n",
              "    </tr>\n",
              "    <tr>\n",
              "      <th>mean</th>\n",
              "      <td>78.500000</td>\n",
              "      <td>5.407096</td>\n",
              "      <td>0.910987</td>\n",
              "      <td>1.216613</td>\n",
              "      <td>0.729923</td>\n",
              "      <td>0.395103</td>\n",
              "      <td>0.186039</td>\n",
              "      <td>0.111316</td>\n",
              "    </tr>\n",
              "    <tr>\n",
              "      <th>std</th>\n",
              "      <td>45.177428</td>\n",
              "      <td>1.113120</td>\n",
              "      <td>0.392925</td>\n",
              "      <td>0.283808</td>\n",
              "      <td>0.235727</td>\n",
              "      <td>0.140207</td>\n",
              "      <td>0.094388</td>\n",
              "      <td>0.094422</td>\n",
              "    </tr>\n",
              "    <tr>\n",
              "      <th>min</th>\n",
              "      <td>1.000000</td>\n",
              "      <td>2.853000</td>\n",
              "      <td>0.026000</td>\n",
              "      <td>0.378000</td>\n",
              "      <td>0.105000</td>\n",
              "      <td>0.010000</td>\n",
              "      <td>0.025000</td>\n",
              "      <td>0.004000</td>\n",
              "    </tr>\n",
              "    <tr>\n",
              "      <th>25%</th>\n",
              "      <td>39.750000</td>\n",
              "      <td>4.544500</td>\n",
              "      <td>0.615000</td>\n",
              "      <td>1.057000</td>\n",
              "      <td>0.553000</td>\n",
              "      <td>0.310000</td>\n",
              "      <td>0.109500</td>\n",
              "      <td>0.048500</td>\n",
              "    </tr>\n",
              "    <tr>\n",
              "      <th>50%</th>\n",
              "      <td>78.500000</td>\n",
              "      <td>5.379500</td>\n",
              "      <td>0.960000</td>\n",
              "      <td>1.274000</td>\n",
              "      <td>0.789000</td>\n",
              "      <td>0.417000</td>\n",
              "      <td>0.178000</td>\n",
              "      <td>0.086000</td>\n",
              "    </tr>\n",
              "    <tr>\n",
              "      <th>75%</th>\n",
              "      <td>117.250000</td>\n",
              "      <td>6.184500</td>\n",
              "      <td>1.234000</td>\n",
              "      <td>1.453000</td>\n",
              "      <td>0.882500</td>\n",
              "      <td>0.507500</td>\n",
              "      <td>0.249500</td>\n",
              "      <td>0.141500</td>\n",
              "    </tr>\n",
              "    <tr>\n",
              "      <th>max</th>\n",
              "      <td>156.000000</td>\n",
              "      <td>7.769000</td>\n",
              "      <td>1.684000</td>\n",
              "      <td>1.624000</td>\n",
              "      <td>1.141000</td>\n",
              "      <td>0.631000</td>\n",
              "      <td>0.566000</td>\n",
              "      <td>0.453000</td>\n",
              "    </tr>\n",
              "  </tbody>\n",
              "</table>\n",
              "</div>"
            ],
            "text/plain": [
              "       Overall rank   Happiness  GDP per capita  Social support  \\\n",
              "count    156.000000  156.000000      155.000000      155.000000   \n",
              "mean      78.500000    5.407096        0.910987        1.216613   \n",
              "std       45.177428    1.113120        0.392925        0.283808   \n",
              "min        1.000000    2.853000        0.026000        0.378000   \n",
              "25%       39.750000    4.544500        0.615000        1.057000   \n",
              "50%       78.500000    5.379500        0.960000        1.274000   \n",
              "75%      117.250000    6.184500        1.234000        1.453000   \n",
              "max      156.000000    7.769000        1.684000        1.624000   \n",
              "\n",
              "       Healthy life expectancy  Freedom to make life choices  Generosity  \\\n",
              "count               155.000000                    155.000000  155.000000   \n",
              "mean                  0.729923                      0.395103    0.186039   \n",
              "std                   0.235727                      0.140207    0.094388   \n",
              "min                   0.105000                      0.010000    0.025000   \n",
              "25%                   0.553000                      0.310000    0.109500   \n",
              "50%                   0.789000                      0.417000    0.178000   \n",
              "75%                   0.882500                      0.507500    0.249500   \n",
              "max                   1.141000                      0.631000    0.566000   \n",
              "\n",
              "       Absence of Corruption  \n",
              "count             155.000000  \n",
              "mean                0.111316  \n",
              "std                 0.094422  \n",
              "min                 0.004000  \n",
              "25%                 0.048500  \n",
              "50%                 0.086000  \n",
              "75%                 0.141500  \n",
              "max                 0.453000  "
            ]
          },
          "execution_count": 32,
          "metadata": {},
          "output_type": "execute_result"
        }
      ],
      "source": [
        "happy_df.describe()"
      ]
    },
    {
      "cell_type": "markdown",
      "metadata": {
        "id": "hjgwyXn1TjXa"
      },
      "source": [
        "## It seems that on average(mean) social support contribute most to well being. Let us take a look at it in more detail"
      ]
    },
    {
      "cell_type": "code",
      "execution_count": null,
      "metadata": {
        "id": "Ie-kEs3WTjXa",
        "outputId": "ca1779b7-a3da-41a3-9fa8-9f206255490c"
      },
      "outputs": [
        {
          "data": {
            "image/png": "[encoded data removed]",
            "text/plain": [
              "<Figure size 864x360 with 1 Axes>"
            ]
          },
          "metadata": {
            "needs_background": "light"
          },
          "output_type": "display_data"
        }
      ],
      "source": [
        "sns.scatterplot(x=happy_df['Social support'] ,y= happy_df['Happiness']); #scatter plot"
      ]
    },
    {
      "cell_type": "code",
      "execution_count": null,
      "metadata": {
        "scrolled": true,
        "id": "8fvW9MydTjXb",
        "outputId": "3f516572-ee99-403a-c9d8-92202c79f800"
      },
      "outputs": [
        {
          "data": {
            "image/png": "[encoded data removed]",
            "text/plain": [
              "<Figure size 864x360 with 1 Axes>"
            ]
          },
          "metadata": {
            "needs_background": "light"
          },
          "output_type": "display_data"
        }
      ],
      "source": [
        "sns.regplot(x=happy_df['Social support'] ,y= happy_df['Happiness']); #best fit line"
      ]
    },
    {
      "cell_type": "code",
      "execution_count": null,
      "metadata": {
        "scrolled": true,
        "id": "ZZ9tvFkGTjXb",
        "outputId": "0d17cb06-81f1-4441-cb73-36b89aa6f9f9"
      },
      "outputs": [
        {
          "data": {
            "text/html": [
              "<div>\n",
              "<style scoped>\n",
              "    .dataframe tbody tr th:only-of-type {\n",
              "        vertical-align: middle;\n",
              "    }\n",
              "\n",
              "    .dataframe tbody tr th {\n",
              "        vertical-align: top;\n",
              "    }\n",
              "\n",
              "    .dataframe thead th {\n",
              "        text-align: right;\n",
              "    }\n",
              "</style>\n",
              "<table border=\"1\" class=\"dataframe\">\n",
              "  <thead>\n",
              "    <tr style=\"text-align: right;\">\n",
              "      <th></th>\n",
              "      <th>Overall rank</th>\n",
              "      <th>Happiness</th>\n",
              "      <th>GDP per capita</th>\n",
              "      <th>Social support</th>\n",
              "      <th>Healthy life expectancy</th>\n",
              "      <th>Freedom to make life choices</th>\n",
              "      <th>Generosity</th>\n",
              "      <th>Absence of Corruption</th>\n",
              "    </tr>\n",
              "  </thead>\n",
              "  <tbody>\n",
              "    <tr>\n",
              "      <th>Overall rank</th>\n",
              "      <td>1.000000</td>\n",
              "      <td>-0.999999</td>\n",
              "      <td>-0.815454</td>\n",
              "      <td>-0.812565</td>\n",
              "      <td>-0.805284</td>\n",
              "      <td>-0.543359</td>\n",
              "      <td>-0.071118</td>\n",
              "      <td>-0.221746</td>\n",
              "    </tr>\n",
              "    <tr>\n",
              "      <th>Happiness</th>\n",
              "      <td>-0.999999</td>\n",
              "      <td>1.000000</td>\n",
              "      <td>0.815508</td>\n",
              "      <td>0.812622</td>\n",
              "      <td>0.805280</td>\n",
              "      <td>0.543319</td>\n",
              "      <td>0.071116</td>\n",
              "      <td>0.221857</td>\n",
              "    </tr>\n",
              "    <tr>\n",
              "      <th>GDP per capita</th>\n",
              "      <td>-0.815454</td>\n",
              "      <td>0.815508</td>\n",
              "      <td>1.000000</td>\n",
              "      <td>0.760059</td>\n",
              "      <td>0.852858</td>\n",
              "      <td>0.406174</td>\n",
              "      <td>-0.030124</td>\n",
              "      <td>0.236594</td>\n",
              "    </tr>\n",
              "    <tr>\n",
              "      <th>Social support</th>\n",
              "      <td>-0.812565</td>\n",
              "      <td>0.812622</td>\n",
              "      <td>0.760059</td>\n",
              "      <td>1.000000</td>\n",
              "      <td>0.721248</td>\n",
              "      <td>0.431488</td>\n",
              "      <td>0.008369</td>\n",
              "      <td>0.108924</td>\n",
              "    </tr>\n",
              "    <tr>\n",
              "      <th>Healthy life expectancy</th>\n",
              "      <td>-0.805284</td>\n",
              "      <td>0.805280</td>\n",
              "      <td>0.852858</td>\n",
              "      <td>0.721248</td>\n",
              "      <td>1.000000</td>\n",
              "      <td>0.399853</td>\n",
              "      <td>-0.009555</td>\n",
              "      <td>0.174115</td>\n",
              "    </tr>\n",
              "    <tr>\n",
              "      <th>Freedom to make life choices</th>\n",
              "      <td>-0.543359</td>\n",
              "      <td>0.543319</td>\n",
              "      <td>0.406174</td>\n",
              "      <td>0.431488</td>\n",
              "      <td>0.399853</td>\n",
              "      <td>1.000000</td>\n",
              "      <td>0.313809</td>\n",
              "      <td>0.387857</td>\n",
              "    </tr>\n",
              "    <tr>\n",
              "      <th>Generosity</th>\n",
              "      <td>-0.071118</td>\n",
              "      <td>0.071116</td>\n",
              "      <td>-0.030124</td>\n",
              "      <td>0.008369</td>\n",
              "      <td>-0.009555</td>\n",
              "      <td>0.313809</td>\n",
              "      <td>1.000000</td>\n",
              "      <td>0.281582</td>\n",
              "    </tr>\n",
              "    <tr>\n",
              "      <th>Absence of Corruption</th>\n",
              "      <td>-0.221746</td>\n",
              "      <td>0.221857</td>\n",
              "      <td>0.236594</td>\n",
              "      <td>0.108924</td>\n",
              "      <td>0.174115</td>\n",
              "      <td>0.387857</td>\n",
              "      <td>0.281582</td>\n",
              "      <td>1.000000</td>\n",
              "    </tr>\n",
              "  </tbody>\n",
              "</table>\n",
              "</div>"
            ],
            "text/plain": [
              "                              Overall rank  Happiness  GDP per capita  \\\n",
              "Overall rank                      1.000000  -0.999999       -0.815454   \n",
              "Happiness                        -0.999999   1.000000        0.815508   \n",
              "GDP per capita                   -0.815454   0.815508        1.000000   \n",
              "Social support                   -0.812565   0.812622        0.760059   \n",
              "Healthy life expectancy          -0.805284   0.805280        0.852858   \n",
              "Freedom to make life choices     -0.543359   0.543319        0.406174   \n",
              "Generosity                       -0.071118   0.071116       -0.030124   \n",
              "Absence of Corruption            -0.221746   0.221857        0.236594   \n",
              "\n",
              "                              Social support  Healthy life expectancy  \\\n",
              "Overall rank                       -0.812565                -0.805284   \n",
              "Happiness                           0.812622                 0.805280   \n",
              "GDP per capita                      0.760059                 0.852858   \n",
              "Social support                      1.000000                 0.721248   \n",
              "Healthy life expectancy             0.721248                 1.000000   \n",
              "Freedom to make life choices        0.431488                 0.399853   \n",
              "Generosity                          0.008369                -0.009555   \n",
              "Absence of Corruption               0.108924                 0.174115   \n",
              "\n",
              "                              Freedom to make life choices  Generosity  \\\n",
              "Overall rank                                     -0.543359   -0.071118   \n",
              "Happiness                                         0.543319    0.071116   \n",
              "GDP per capita                                    0.406174   -0.030124   \n",
              "Social support                                    0.431488    0.008369   \n",
              "Healthy life expectancy                           0.399853   -0.009555   \n",
              "Freedom to make life choices                      1.000000    0.313809   \n",
              "Generosity                                        0.313809    1.000000   \n",
              "Absence of Corruption                             0.387857    0.281582   \n",
              "\n",
              "                              Absence of Corruption  \n",
              "Overall rank                              -0.221746  \n",
              "Happiness                                  0.221857  \n",
              "GDP per capita                             0.236594  \n",
              "Social support                             0.108924  \n",
              "Healthy life expectancy                    0.174115  \n",
              "Freedom to make life choices               0.387857  \n",
              "Generosity                                 0.281582  \n",
              "Absence of Corruption                      1.000000  "
            ]
          },
          "execution_count": 35,
          "metadata": {},
          "output_type": "execute_result"
        }
      ],
      "source": [
        "corr_spearman"
      ]
    },
    {
      "cell_type": "markdown",
      "metadata": {
        "id": "bPjNnKuLTjXc"
      },
      "source": [
        "## At p= 0.81 there is strong correlation. From this we know that social support has a strong affect on happiness."
      ]
    },
    {
      "cell_type": "markdown",
      "metadata": {
        "id": "rdbEcueFTjXd"
      },
      "source": [
        "## Even though social support contributes most of well being, it has the same correlation or lower compared to the gdp per capita. The reason this maybe the case is because social support is more consistantly higher."
      ]
    },
    {
      "cell_type": "code",
      "execution_count": null,
      "metadata": {
        "scrolled": true,
        "id": "FmqNcXiPTjXd",
        "outputId": "647b3152-c4db-4146-ff2d-b7435b29bda5"
      },
      "outputs": [
        {
          "data": {
            "text/html": [
              "<div>\n",
              "<style scoped>\n",
              "    .dataframe tbody tr th:only-of-type {\n",
              "        vertical-align: middle;\n",
              "    }\n",
              "\n",
              "    .dataframe tbody tr th {\n",
              "        vertical-align: top;\n",
              "    }\n",
              "\n",
              "    .dataframe thead th {\n",
              "        text-align: right;\n",
              "    }\n",
              "</style>\n",
              "<table border=\"1\" class=\"dataframe\">\n",
              "  <thead>\n",
              "    <tr style=\"text-align: right;\">\n",
              "      <th></th>\n",
              "      <th>Overall rank</th>\n",
              "      <th>Happiness</th>\n",
              "      <th>GDP per capita</th>\n",
              "      <th>Social support</th>\n",
              "      <th>Healthy life expectancy</th>\n",
              "      <th>Freedom to make life choices</th>\n",
              "      <th>Generosity</th>\n",
              "      <th>Absence of Corruption</th>\n",
              "    </tr>\n",
              "  </thead>\n",
              "  <tbody>\n",
              "    <tr>\n",
              "      <th>count</th>\n",
              "      <td>156.000000</td>\n",
              "      <td>156.000000</td>\n",
              "      <td>155.000000</td>\n",
              "      <td>155.000000</td>\n",
              "      <td>155.000000</td>\n",
              "      <td>155.000000</td>\n",
              "      <td>155.000000</td>\n",
              "      <td>155.000000</td>\n",
              "    </tr>\n",
              "    <tr>\n",
              "      <th>mean</th>\n",
              "      <td>78.500000</td>\n",
              "      <td>5.407096</td>\n",
              "      <td>0.910987</td>\n",
              "      <td>1.216613</td>\n",
              "      <td>0.729923</td>\n",
              "      <td>0.395103</td>\n",
              "      <td>0.186039</td>\n",
              "      <td>0.111316</td>\n",
              "    </tr>\n",
              "    <tr>\n",
              "      <th>std</th>\n",
              "      <td>45.177428</td>\n",
              "      <td>1.113120</td>\n",
              "      <td>0.392925</td>\n",
              "      <td>0.283808</td>\n",
              "      <td>0.235727</td>\n",
              "      <td>0.140207</td>\n",
              "      <td>0.094388</td>\n",
              "      <td>0.094422</td>\n",
              "    </tr>\n",
              "    <tr>\n",
              "      <th>min</th>\n",
              "      <td>1.000000</td>\n",
              "      <td>2.853000</td>\n",
              "      <td>0.026000</td>\n",
              "      <td>0.378000</td>\n",
              "      <td>0.105000</td>\n",
              "      <td>0.010000</td>\n",
              "      <td>0.025000</td>\n",
              "      <td>0.004000</td>\n",
              "    </tr>\n",
              "    <tr>\n",
              "      <th>25%</th>\n",
              "      <td>39.750000</td>\n",
              "      <td>4.544500</td>\n",
              "      <td>0.615000</td>\n",
              "      <td>1.057000</td>\n",
              "      <td>0.553000</td>\n",
              "      <td>0.310000</td>\n",
              "      <td>0.109500</td>\n",
              "      <td>0.048500</td>\n",
              "    </tr>\n",
              "    <tr>\n",
              "      <th>50%</th>\n",
              "      <td>78.500000</td>\n",
              "      <td>5.379500</td>\n",
              "      <td>0.960000</td>\n",
              "      <td>1.274000</td>\n",
              "      <td>0.789000</td>\n",
              "      <td>0.417000</td>\n",
              "      <td>0.178000</td>\n",
              "      <td>0.086000</td>\n",
              "    </tr>\n",
              "    <tr>\n",
              "      <th>75%</th>\n",
              "      <td>117.250000</td>\n",
              "      <td>6.184500</td>\n",
              "      <td>1.234000</td>\n",
              "      <td>1.453000</td>\n",
              "      <td>0.882500</td>\n",
              "      <td>0.507500</td>\n",
              "      <td>0.249500</td>\n",
              "      <td>0.141500</td>\n",
              "    </tr>\n",
              "    <tr>\n",
              "      <th>max</th>\n",
              "      <td>156.000000</td>\n",
              "      <td>7.769000</td>\n",
              "      <td>1.684000</td>\n",
              "      <td>1.624000</td>\n",
              "      <td>1.141000</td>\n",
              "      <td>0.631000</td>\n",
              "      <td>0.566000</td>\n",
              "      <td>0.453000</td>\n",
              "    </tr>\n",
              "  </tbody>\n",
              "</table>\n",
              "</div>"
            ],
            "text/plain": [
              "       Overall rank   Happiness  GDP per capita  Social support  \\\n",
              "count    156.000000  156.000000      155.000000      155.000000   \n",
              "mean      78.500000    5.407096        0.910987        1.216613   \n",
              "std       45.177428    1.113120        0.392925        0.283808   \n",
              "min        1.000000    2.853000        0.026000        0.378000   \n",
              "25%       39.750000    4.544500        0.615000        1.057000   \n",
              "50%       78.500000    5.379500        0.960000        1.274000   \n",
              "75%      117.250000    6.184500        1.234000        1.453000   \n",
              "max      156.000000    7.769000        1.684000        1.624000   \n",
              "\n",
              "       Healthy life expectancy  Freedom to make life choices  Generosity  \\\n",
              "count               155.000000                    155.000000  155.000000   \n",
              "mean                  0.729923                      0.395103    0.186039   \n",
              "std                   0.235727                      0.140207    0.094388   \n",
              "min                   0.105000                      0.010000    0.025000   \n",
              "25%                   0.553000                      0.310000    0.109500   \n",
              "50%                   0.789000                      0.417000    0.178000   \n",
              "75%                   0.882500                      0.507500    0.249500   \n",
              "max                   1.141000                      0.631000    0.566000   \n",
              "\n",
              "       Absence of Corruption  \n",
              "count             155.000000  \n",
              "mean                0.111316  \n",
              "std                 0.094422  \n",
              "min                 0.004000  \n",
              "25%                 0.048500  \n",
              "50%                 0.086000  \n",
              "75%                 0.141500  \n",
              "max                 0.453000  "
            ]
          },
          "execution_count": 36,
          "metadata": {},
          "output_type": "execute_result"
        }
      ],
      "source": [
        "happy_df.describe()"
      ]
    },
    {
      "cell_type": "markdown",
      "metadata": {
        "id": "ee7F_XCoTjXe"
      },
      "source": [
        "### From this we can see that the lowest value for social support is 0.38 but for gdp per capita it is 0.026"
      ]
    },
    {
      "cell_type": "markdown",
      "metadata": {
        "id": "WRNZYlPtTjXe"
      },
      "source": [
        "# Question 3: Specifically how does the United States fare compared to the world average?"
      ]
    },
    {
      "cell_type": "code",
      "execution_count": null,
      "metadata": {
        "id": "XukIZGqHTjXf"
      },
      "outputs": [],
      "source": [
        "us_filt = happy_df[happy_raw_df['Country or region'] == 'United States'] \n",
        "us_filt = us_filt.iloc[:,[2,3,4,5,6,7,8]]\n",
        "us_filt['Region'] = 'United States' \n",
        "cols = us_filt.columns.tolist()\n",
        "cols = cols[-1:] + cols[:-1] \n",
        "\n",
        "us_filt = us_filt[cols]"
      ]
    },
    {
      "cell_type": "code",
      "execution_count": null,
      "metadata": {
        "scrolled": true,
        "id": "av6Lfa--TjXg",
        "outputId": "f7effc19-1dd5-4e21-9f8a-296b6375063d"
      },
      "outputs": [
        {
          "data": {
            "text/html": [
              "<div>\n",
              "<style scoped>\n",
              "    .dataframe tbody tr th:only-of-type {\n",
              "        vertical-align: middle;\n",
              "    }\n",
              "\n",
              "    .dataframe tbody tr th {\n",
              "        vertical-align: top;\n",
              "    }\n",
              "\n",
              "    .dataframe thead th {\n",
              "        text-align: right;\n",
              "    }\n",
              "</style>\n",
              "<table border=\"1\" class=\"dataframe\">\n",
              "  <thead>\n",
              "    <tr style=\"text-align: right;\">\n",
              "      <th></th>\n",
              "      <th>Region</th>\n",
              "      <th>Happiness</th>\n",
              "      <th>GDP per capita</th>\n",
              "      <th>Social support</th>\n",
              "      <th>Healthy life expectancy</th>\n",
              "      <th>Freedom to make life choices</th>\n",
              "      <th>Generosity</th>\n",
              "      <th>Absence of Corruption</th>\n",
              "    </tr>\n",
              "  </thead>\n",
              "  <tbody>\n",
              "    <tr>\n",
              "      <th>18</th>\n",
              "      <td>United States</td>\n",
              "      <td>6.892</td>\n",
              "      <td>1.433</td>\n",
              "      <td>1.457</td>\n",
              "      <td>0.874</td>\n",
              "      <td>0.454</td>\n",
              "      <td>0.28</td>\n",
              "      <td>0.128</td>\n",
              "    </tr>\n",
              "  </tbody>\n",
              "</table>\n",
              "</div>"
            ],
            "text/plain": [
              "           Region  Happiness  GDP per capita  Social support  \\\n",
              "18  United States      6.892           1.433           1.457   \n",
              "\n",
              "    Healthy life expectancy  Freedom to make life choices  Generosity  \\\n",
              "18                    0.874                         0.454        0.28   \n",
              "\n",
              "    Absence of Corruption  \n",
              "18                  0.128  "
            ]
          },
          "execution_count": 38,
          "metadata": {},
          "output_type": "execute_result"
        }
      ],
      "source": [
        "us_filt"
      ]
    },
    {
      "cell_type": "code",
      "execution_count": null,
      "metadata": {
        "id": "Vdl0DgD5TjXg",
        "outputId": "67aa2bda-47a1-4da8-9824-132db5490514"
      },
      "outputs": [
        {
          "data": {
            "image/png": "[encoded data removed]",
            "text/plain": [
              "<Figure size 864x360 with 1 Axes>"
            ]
          },
          "metadata": {
            "needs_background": "light"
          },
          "output_type": "display_data"
        }
      ],
      "source": [
        "plt.xticks(rotation=90)\n",
        "plt.title('United States')\n",
        "plt.xlabel('Metrics')\n",
        "plt.ylabel('Metric Values')\n",
        "sns.barplot(data = us_filt);"
      ]
    },
    {
      "cell_type": "markdown",
      "metadata": {
        "id": "IMGDr4kyTjXh"
      },
      "source": [
        "## This is a barplot showing the distribution of metrics for the US. It seems that GDP per capita, social Support, and life expectancy matter most to well being. While absence of corruption does very little. How does this compare to other nations?"
      ]
    },
    {
      "cell_type": "code",
      "execution_count": null,
      "metadata": {
        "scrolled": true,
        "id": "PGkHJNjuTjXi",
        "outputId": "5a41b5b3-3478-4624-fe28-6103c2b0c200"
      },
      "outputs": [
        {
          "data": {
            "text/html": [
              "<div>\n",
              "<style scoped>\n",
              "    .dataframe tbody tr th:only-of-type {\n",
              "        vertical-align: middle;\n",
              "    }\n",
              "\n",
              "    .dataframe tbody tr th {\n",
              "        vertical-align: top;\n",
              "    }\n",
              "\n",
              "    .dataframe thead th {\n",
              "        text-align: right;\n",
              "    }\n",
              "</style>\n",
              "<table border=\"1\" class=\"dataframe\">\n",
              "  <thead>\n",
              "    <tr style=\"text-align: right;\">\n",
              "      <th></th>\n",
              "      <th>Region</th>\n",
              "      <th>Happiness</th>\n",
              "      <th>GDP per capita</th>\n",
              "      <th>Social support</th>\n",
              "      <th>Healthy life expectancy</th>\n",
              "      <th>Freedom to make life choices</th>\n",
              "      <th>Generosity</th>\n",
              "      <th>Absence of Corruption</th>\n",
              "    </tr>\n",
              "  </thead>\n",
              "  <tbody>\n",
              "    <tr>\n",
              "      <th>0</th>\n",
              "      <td>Global</td>\n",
              "      <td>5.407096</td>\n",
              "      <td>0.910987</td>\n",
              "      <td>1.216613</td>\n",
              "      <td>0.729923</td>\n",
              "      <td>0.395103</td>\n",
              "      <td>0.186039</td>\n",
              "      <td>0.111316</td>\n",
              "    </tr>\n",
              "    <tr>\n",
              "      <th>18</th>\n",
              "      <td>United States</td>\n",
              "      <td>6.892000</td>\n",
              "      <td>1.433000</td>\n",
              "      <td>1.457000</td>\n",
              "      <td>0.874000</td>\n",
              "      <td>0.454000</td>\n",
              "      <td>0.280000</td>\n",
              "      <td>0.128000</td>\n",
              "    </tr>\n",
              "  </tbody>\n",
              "</table>\n",
              "</div>"
            ],
            "text/plain": [
              "           Region  Happiness  GDP per capita  Social support  \\\n",
              "0          Global   5.407096        0.910987        1.216613   \n",
              "18  United States   6.892000        1.433000        1.457000   \n",
              "\n",
              "    Healthy life expectancy  Freedom to make life choices  Generosity  \\\n",
              "0                  0.729923                      0.395103    0.186039   \n",
              "18                 0.874000                      0.454000    0.280000   \n",
              "\n",
              "    Absence of Corruption  \n",
              "0                0.111316  \n",
              "18               0.128000  "
            ]
          },
          "execution_count": 40,
          "metadata": {},
          "output_type": "execute_result"
        }
      ],
      "source": [
        "#calculate the mean of all columns assign each value to a variable\n",
        "global_score = happy_df['Happiness'].mean(axis = 0)\n",
        "global_gdp = happy_df['GDP per capita'].mean(axis= 0)\n",
        "global_social = happy_df['Social support'].mean(axis= 0)\n",
        "global_health = happy_df['Healthy life expectancy'].mean(axis= 0)\n",
        "global_freedom = happy_df['Freedom to make life choices'].mean(axis= 0)\n",
        "global_generosity =  happy_df['Generosity'].mean(axis= 0)\n",
        "global_corruption = happy_df['Absence of Corruption'].mean(axis= 0)\n",
        "\n",
        "#and create a dictionary with keys and values\n",
        "data = {'Happiness':[global_score], \n",
        "        'GDP per capita': [global_gdp], \n",
        "        'Social support': [global_social],\n",
        "        'Healthy life expectancy': [global_health],\n",
        "        'Freedom to make life choices': [global_freedom],\n",
        "        'Generosity': [global_generosity],\n",
        "        'Absence of Corruption': [global_corruption]}\n",
        "\n",
        "#a new dataframe of the created dictionary\n",
        "global_filt = pd.DataFrame(data=data)\n",
        "global_filt.insert(0,'Region','Global')  \n",
        "#insert the column 'region' with string 'global' to indicate the average of all countries for this dataframe\n",
        "global_filt\n",
        "\n",
        "us_world_compare_df = pd.concat([global_filt,us_filt]) #combine the global and us dataframes together to create a new dataframe\n",
        "\n",
        "us_world_compare_df\n",
        "#I cannot utilize current short form of the combined dataframe shown below"
      ]
    },
    {
      "cell_type": "code",
      "execution_count": null,
      "metadata": {
        "id": "e8DoE_1sTjXj",
        "outputId": "e87f4943-c617-49eb-be74-9481f048b536"
      },
      "outputs": [
        {
          "data": {
            "text/html": [
              "<div>\n",
              "<style scoped>\n",
              "    .dataframe tbody tr th:only-of-type {\n",
              "        vertical-align: middle;\n",
              "    }\n",
              "\n",
              "    .dataframe tbody tr th {\n",
              "        vertical-align: top;\n",
              "    }\n",
              "\n",
              "    .dataframe thead th {\n",
              "        text-align: right;\n",
              "    }\n",
              "</style>\n",
              "<table border=\"1\" class=\"dataframe\">\n",
              "  <thead>\n",
              "    <tr style=\"text-align: right;\">\n",
              "      <th></th>\n",
              "      <th>Region</th>\n",
              "      <th>Metrics</th>\n",
              "      <th>Values</th>\n",
              "    </tr>\n",
              "  </thead>\n",
              "  <tbody>\n",
              "    <tr>\n",
              "      <th>0</th>\n",
              "      <td>Global</td>\n",
              "      <td>Happiness</td>\n",
              "      <td>5.407096</td>\n",
              "    </tr>\n",
              "    <tr>\n",
              "      <th>1</th>\n",
              "      <td>United States</td>\n",
              "      <td>Happiness</td>\n",
              "      <td>6.892000</td>\n",
              "    </tr>\n",
              "    <tr>\n",
              "      <th>2</th>\n",
              "      <td>Global</td>\n",
              "      <td>GDP per capita</td>\n",
              "      <td>0.910987</td>\n",
              "    </tr>\n",
              "    <tr>\n",
              "      <th>3</th>\n",
              "      <td>United States</td>\n",
              "      <td>GDP per capita</td>\n",
              "      <td>1.433000</td>\n",
              "    </tr>\n",
              "    <tr>\n",
              "      <th>4</th>\n",
              "      <td>Global</td>\n",
              "      <td>Social support</td>\n",
              "      <td>1.216613</td>\n",
              "    </tr>\n",
              "    <tr>\n",
              "      <th>5</th>\n",
              "      <td>United States</td>\n",
              "      <td>Social support</td>\n",
              "      <td>1.457000</td>\n",
              "    </tr>\n",
              "    <tr>\n",
              "      <th>6</th>\n",
              "      <td>Global</td>\n",
              "      <td>Healthy life expectancy</td>\n",
              "      <td>0.729923</td>\n",
              "    </tr>\n",
              "    <tr>\n",
              "      <th>7</th>\n",
              "      <td>United States</td>\n",
              "      <td>Healthy life expectancy</td>\n",
              "      <td>0.874000</td>\n",
              "    </tr>\n",
              "    <tr>\n",
              "      <th>8</th>\n",
              "      <td>Global</td>\n",
              "      <td>Freedom to make life choices</td>\n",
              "      <td>0.395103</td>\n",
              "    </tr>\n",
              "    <tr>\n",
              "      <th>9</th>\n",
              "      <td>United States</td>\n",
              "      <td>Freedom to make life choices</td>\n",
              "      <td>0.454000</td>\n",
              "    </tr>\n",
              "    <tr>\n",
              "      <th>10</th>\n",
              "      <td>Global</td>\n",
              "      <td>Generosity</td>\n",
              "      <td>0.186039</td>\n",
              "    </tr>\n",
              "    <tr>\n",
              "      <th>11</th>\n",
              "      <td>United States</td>\n",
              "      <td>Generosity</td>\n",
              "      <td>0.280000</td>\n",
              "    </tr>\n",
              "    <tr>\n",
              "      <th>12</th>\n",
              "      <td>Global</td>\n",
              "      <td>Absence of Corruption</td>\n",
              "      <td>0.111316</td>\n",
              "    </tr>\n",
              "    <tr>\n",
              "      <th>13</th>\n",
              "      <td>United States</td>\n",
              "      <td>Absence of Corruption</td>\n",
              "      <td>0.128000</td>\n",
              "    </tr>\n",
              "  </tbody>\n",
              "</table>\n",
              "</div>"
            ],
            "text/plain": [
              "           Region                       Metrics    Values\n",
              "0          Global                     Happiness  5.407096\n",
              "1   United States                     Happiness  6.892000\n",
              "2          Global                GDP per capita  0.910987\n",
              "3   United States                GDP per capita  1.433000\n",
              "4          Global                Social support  1.216613\n",
              "5   United States                Social support  1.457000\n",
              "6          Global       Healthy life expectancy  0.729923\n",
              "7   United States       Healthy life expectancy  0.874000\n",
              "8          Global  Freedom to make life choices  0.395103\n",
              "9   United States  Freedom to make life choices  0.454000\n",
              "10         Global                    Generosity  0.186039\n",
              "11  United States                    Generosity  0.280000\n",
              "12         Global         Absence of Corruption  0.111316\n",
              "13  United States         Absence of Corruption  0.128000"
            ]
          },
          "execution_count": 41,
          "metadata": {},
          "output_type": "execute_result"
        }
      ],
      "source": [
        "#I must first convert the short-form dataframe to a long-form dataframe so I can create a barplot for it\n",
        "us_world_compare_longform_df = pd.melt(frame = us_world_compare_df, id_vars= 'Region', var_name= 'Metrics', value_name= \"Values\" )\n",
        "us_world_compare_longform_df"
      ]
    },
    {
      "cell_type": "code",
      "execution_count": null,
      "metadata": {
        "id": "iseV6o5NTjXk",
        "outputId": "0507aa5d-2dd6-4431-928f-d9a2ca0a42fa"
      },
      "outputs": [
        {
          "data": {
            "image/png": "[encoded data removed]",
            "text/plain": [
              "<Figure size 864x360 with 1 Axes>"
            ]
          },
          "metadata": {
            "needs_background": "light"
          },
          "output_type": "display_data"
        }
      ],
      "source": [
        "plt.xticks(rotation=90) #90 degree ticks\n",
        "sns.barplot(data = us_world_compare_longform_df, x= 'Metrics', y= 'Values', hue = 'Region');\n",
        "#barplot comparing the metrics of the US versus the global average"
      ]
    },
    {
      "cell_type": "markdown",
      "metadata": {
        "id": "UXQkurOTTjXk"
      },
      "source": [
        "### We can infer several conclusions from the data. Firstly, on average Americans are happier than the rest of the world"
      ]
    },
    {
      "cell_type": "markdown",
      "metadata": {
        "id": "_s5X13M6TjXl"
      },
      "source": [
        "### Additionally, we see that compared to the world average, all metrics with the exception of corruption contribute more to the happiness of Americans especially GDP per capita, but also social support and life expectancy to a lesser extent. This suggest that the US should focus on economic productivity, personal relationships, and perhaps a better healthcare system to maximize well being."
      ]
    },
    {
      "cell_type": "markdown",
      "metadata": {
        "id": "1z2NRxE4TjXm"
      },
      "source": [
        "### Life expectancy is related to happiness however this is probably an indirect correlation as living longer does not necessarily mean that life is more furfilling. Instead there is probably a confounding variable that influences both life expectency and well being. Could that be gdp per capita? Is gdp per capita correlated with life expectency?"
      ]
    },
    {
      "cell_type": "markdown",
      "metadata": {
        "id": "6_9hLGekTjXm"
      },
      "source": [
        "# Question 4: Is gdp per capita correlated with life expectency?"
      ]
    },
    {
      "cell_type": "code",
      "execution_count": null,
      "metadata": {
        "id": "n3meAKeZTjXn",
        "outputId": "51b53728-7607-4c16-ae81-55b1a5533b61"
      },
      "outputs": [
        {
          "data": {
            "image/png": "[encoded data removed]",
            "text/plain": [
              "<Figure size 864x360 with 1 Axes>"
            ]
          },
          "metadata": {
            "needs_background": "light"
          },
          "output_type": "display_data"
        }
      ],
      "source": [
        "sns.scatterplot(x=happy_df['GDP per capita'] ,y= happy_df['Healthy life expectancy']);"
      ]
    },
    {
      "cell_type": "code",
      "execution_count": null,
      "metadata": {
        "scrolled": true,
        "id": "YfzNI6WqTjXn",
        "outputId": "310a8fad-686a-4bb8-e503-e9f4cbf5c1d2"
      },
      "outputs": [
        {
          "data": {
            "image/png": "[encoded data removed]",
            "text/plain": [
              "<Figure size 864x360 with 1 Axes>"
            ]
          },
          "metadata": {
            "needs_background": "light"
          },
          "output_type": "display_data"
        }
      ],
      "source": [
        "sns.regplot(x=happy_df['GDP per capita'] ,y= happy_df['Healthy life expectancy']);"
      ]
    },
    {
      "cell_type": "code",
      "execution_count": null,
      "metadata": {
        "id": "SLYCwou5TjXo",
        "outputId": "0d3b33f6-6c54-4d5e-a085-19c5f647e457"
      },
      "outputs": [
        {
          "data": {
            "text/html": [
              "<div>\n",
              "<style scoped>\n",
              "    .dataframe tbody tr th:only-of-type {\n",
              "        vertical-align: middle;\n",
              "    }\n",
              "\n",
              "    .dataframe tbody tr th {\n",
              "        vertical-align: top;\n",
              "    }\n",
              "\n",
              "    .dataframe thead th {\n",
              "        text-align: right;\n",
              "    }\n",
              "</style>\n",
              "<table border=\"1\" class=\"dataframe\">\n",
              "  <thead>\n",
              "    <tr style=\"text-align: right;\">\n",
              "      <th></th>\n",
              "      <th>Overall rank</th>\n",
              "      <th>Happiness</th>\n",
              "      <th>GDP per capita</th>\n",
              "      <th>Social support</th>\n",
              "      <th>Healthy life expectancy</th>\n",
              "      <th>Freedom to make life choices</th>\n",
              "      <th>Generosity</th>\n",
              "      <th>Absence of Corruption</th>\n",
              "    </tr>\n",
              "  </thead>\n",
              "  <tbody>\n",
              "    <tr>\n",
              "      <th>Overall rank</th>\n",
              "      <td>1.000000</td>\n",
              "      <td>-0.999999</td>\n",
              "      <td>-0.815454</td>\n",
              "      <td>-0.812565</td>\n",
              "      <td>-0.805284</td>\n",
              "      <td>-0.543359</td>\n",
              "      <td>-0.071118</td>\n",
              "      <td>-0.221746</td>\n",
              "    </tr>\n",
              "    <tr>\n",
              "      <th>Happiness</th>\n",
              "      <td>-0.999999</td>\n",
              "      <td>1.000000</td>\n",
              "      <td>0.815508</td>\n",
              "      <td>0.812622</td>\n",
              "      <td>0.805280</td>\n",
              "      <td>0.543319</td>\n",
              "      <td>0.071116</td>\n",
              "      <td>0.221857</td>\n",
              "    </tr>\n",
              "    <tr>\n",
              "      <th>GDP per capita</th>\n",
              "      <td>-0.815454</td>\n",
              "      <td>0.815508</td>\n",
              "      <td>1.000000</td>\n",
              "      <td>0.760059</td>\n",
              "      <td>0.852858</td>\n",
              "      <td>0.406174</td>\n",
              "      <td>-0.030124</td>\n",
              "      <td>0.236594</td>\n",
              "    </tr>\n",
              "    <tr>\n",
              "      <th>Social support</th>\n",
              "      <td>-0.812565</td>\n",
              "      <td>0.812622</td>\n",
              "      <td>0.760059</td>\n",
              "      <td>1.000000</td>\n",
              "      <td>0.721248</td>\n",
              "      <td>0.431488</td>\n",
              "      <td>0.008369</td>\n",
              "      <td>0.108924</td>\n",
              "    </tr>\n",
              "    <tr>\n",
              "      <th>Healthy life expectancy</th>\n",
              "      <td>-0.805284</td>\n",
              "      <td>0.805280</td>\n",
              "      <td>0.852858</td>\n",
              "      <td>0.721248</td>\n",
              "      <td>1.000000</td>\n",
              "      <td>0.399853</td>\n",
              "      <td>-0.009555</td>\n",
              "      <td>0.174115</td>\n",
              "    </tr>\n",
              "    <tr>\n",
              "      <th>Freedom to make life choices</th>\n",
              "      <td>-0.543359</td>\n",
              "      <td>0.543319</td>\n",
              "      <td>0.406174</td>\n",
              "      <td>0.431488</td>\n",
              "      <td>0.399853</td>\n",
              "      <td>1.000000</td>\n",
              "      <td>0.313809</td>\n",
              "      <td>0.387857</td>\n",
              "    </tr>\n",
              "    <tr>\n",
              "      <th>Generosity</th>\n",
              "      <td>-0.071118</td>\n",
              "      <td>0.071116</td>\n",
              "      <td>-0.030124</td>\n",
              "      <td>0.008369</td>\n",
              "      <td>-0.009555</td>\n",
              "      <td>0.313809</td>\n",
              "      <td>1.000000</td>\n",
              "      <td>0.281582</td>\n",
              "    </tr>\n",
              "    <tr>\n",
              "      <th>Absence of Corruption</th>\n",
              "      <td>-0.221746</td>\n",
              "      <td>0.221857</td>\n",
              "      <td>0.236594</td>\n",
              "      <td>0.108924</td>\n",
              "      <td>0.174115</td>\n",
              "      <td>0.387857</td>\n",
              "      <td>0.281582</td>\n",
              "      <td>1.000000</td>\n",
              "    </tr>\n",
              "  </tbody>\n",
              "</table>\n",
              "</div>"
            ],
            "text/plain": [
              "                              Overall rank  Happiness  GDP per capita  \\\n",
              "Overall rank                      1.000000  -0.999999       -0.815454   \n",
              "Happiness                        -0.999999   1.000000        0.815508   \n",
              "GDP per capita                   -0.815454   0.815508        1.000000   \n",
              "Social support                   -0.812565   0.812622        0.760059   \n",
              "Healthy life expectancy          -0.805284   0.805280        0.852858   \n",
              "Freedom to make life choices     -0.543359   0.543319        0.406174   \n",
              "Generosity                       -0.071118   0.071116       -0.030124   \n",
              "Absence of Corruption            -0.221746   0.221857        0.236594   \n",
              "\n",
              "                              Social support  Healthy life expectancy  \\\n",
              "Overall rank                       -0.812565                -0.805284   \n",
              "Happiness                           0.812622                 0.805280   \n",
              "GDP per capita                      0.760059                 0.852858   \n",
              "Social support                      1.000000                 0.721248   \n",
              "Healthy life expectancy             0.721248                 1.000000   \n",
              "Freedom to make life choices        0.431488                 0.399853   \n",
              "Generosity                          0.008369                -0.009555   \n",
              "Absence of Corruption               0.108924                 0.174115   \n",
              "\n",
              "                              Freedom to make life choices  Generosity  \\\n",
              "Overall rank                                     -0.543359   -0.071118   \n",
              "Happiness                                         0.543319    0.071116   \n",
              "GDP per capita                                    0.406174   -0.030124   \n",
              "Social support                                    0.431488    0.008369   \n",
              "Healthy life expectancy                           0.399853   -0.009555   \n",
              "Freedom to make life choices                      1.000000    0.313809   \n",
              "Generosity                                        0.313809    1.000000   \n",
              "Absence of Corruption                             0.387857    0.281582   \n",
              "\n",
              "                              Absence of Corruption  \n",
              "Overall rank                              -0.221746  \n",
              "Happiness                                  0.221857  \n",
              "GDP per capita                             0.236594  \n",
              "Social support                             0.108924  \n",
              "Healthy life expectancy                    0.174115  \n",
              "Freedom to make life choices               0.387857  \n",
              "Generosity                                 0.281582  \n",
              "Absence of Corruption                      1.000000  "
            ]
          },
          "execution_count": 45,
          "metadata": {},
          "output_type": "execute_result"
        }
      ],
      "source": [
        "corr_spearman"
      ]
    },
    {
      "cell_type": "markdown",
      "metadata": {
        "id": "PRw0AjgzTjXp"
      },
      "source": [
        "### At a coefficient of p= 0.85, it appears that GDP per capita is an even stronger predictor of life expectancy than it is a predictor of happiness"
      ]
    },
    {
      "cell_type": "markdown",
      "metadata": {
        "id": "ctJsDZ0KTjXp"
      },
      "source": [
        "# Question 5: What other relationships can we predict from the data?"
      ]
    },
    {
      "cell_type": "code",
      "execution_count": null,
      "metadata": {
        "id": "G0VGrSROTjXq",
        "outputId": "8033e9ef-11e0-44f2-b8b8-36559a9f5d4d"
      },
      "outputs": [
        {
          "data": {
            "image/png": "[encoded data removed]",
            "text/plain": [
              "<Figure size 864x360 with 2 Axes>"
            ]
          },
          "metadata": {
            "needs_background": "light"
          },
          "output_type": "display_data"
        }
      ],
      "source": [
        "sns.heatmap(corr_spearman)\n",
        "plt.show()"
      ]
    },
    {
      "cell_type": "markdown",
      "metadata": {
        "id": "M2biehnvTjXq"
      },
      "source": [
        "### Interestingly, gdp per capita has an even stronger correlation with health than happiness\n",
        "\n",
        "### Freedom, generosity, and absence of corruption is not strongly correlated with happiness or any other metric. They seem to be independent variables. Therefore they are not important to well being. It least for most countries.\n",
        "\n",
        "### That being said. The relationship between happiness and freedom is not insignificant. Countries may gain a small boost to happiness by creating a more free society. \n",
        "\n",
        "### Given that the social support is not something that a government can control and gdp per capita influences health, it suggest that govenments should do all it can to increase the collective wealth of a society in term of gdp per person"
      ]
    },
    {
      "cell_type": "markdown",
      "metadata": {
        "id": "oCXjXIJnTjXr"
      },
      "source": [
        "#  Inferences and Conclusion"
      ]
    },
    {
      "cell_type": "markdown",
      "metadata": {
        "id": "9JfPo6zFTjXr"
      },
      "source": [
        "### GDP per capita is most strongly correlated with well being. Social support contribute the most to the happiness score of a nation on average. Social support contribution to happiness is consistantly higher compared to gdp per capita. More consistantly higher social support value across the board may explain why it contributes the most to well being even though social support is not the most strongly correlated with well being. I've used Spearman's Correlation because not all the metrics are normally distributed which is required for pearson's correlation. The US score higher than the rest of the world on all metrics except absence of corruption. Therefore corruption has no or very little affect on well being for the US as well as the rest of the world. Life expectancy is correlated to happiness but it might be a result of gdp per capita. While, not strong. Freedom does have a significant affect on happiness."
      ]
    },
    {
      "cell_type": "markdown",
      "metadata": {
        "id": "EJl5S9ikTjXs"
      },
      "source": [
        "### Resources:\n",
        "#### - https://seaborn.pydata.org/\n",
        "#### - https://pandas.pydata.org/docs/\n",
        "#### - https://towardsdatascience.com/\n",
        "#### - https://stackoverflow.com/\n",
        "#### - https://matplotlib.org/\n",
        "#### - https://numpy.org/\n",
        "#### - https://datatofish.com/\n",
        "#### - https://kaggle.com/\n",
        "\n"
      ]
    }
  ],
  "metadata": {
    "language_info": {
      "codemirror_mode": {
        "name": "ipython",
        "version": 3
      },
      "file_extension": ".py",
      "mimetype": "text/x-python",
      "name": "python",
      "nbconvert_exporter": "python",
      "pygments_lexer": "ipython3",
      "version": "3.9.6"
    },
    "colab": {
      "name": "national-happiness-factors.ipynb",
      "provenance": []
    }
  },
  "nbformat": 4,
  "nbformat_minor": 0
}